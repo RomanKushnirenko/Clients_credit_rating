{
 "cells": [
  {
   "cell_type": "markdown",
   "id": "ea4626da",
   "metadata": {
    "deletable": false,
    "editable": false,
    "id": "c81daeeb"
   },
   "source": [
    "# Исследование надежности заемщиков"
   ]
  },
  {
   "cell_type": "markdown",
   "id": "c66b5323",
   "metadata": {
    "deletable": false,
    "editable": false,
    "id": "827c20bf"
   },
   "source": [
    "Кредитный отдел банка желает узнать, влияет ли семейное положение и количество детей клиента на факт погашения кредита в срок. Входные данные от банка — статистика о платёжеспособности клиентов. "
   ]
  },
  {
   "cell_type": "markdown",
   "id": "cd2d487e",
   "metadata": {},
   "source": [
    "<b><u>Цель:</u></b> Результаты исследования будут учтены при построении модели кредитного скоринга — специальной системы, которая оценивает способность потенциального заёмщика вернуть кредит банку."
   ]
  },
  {
   "cell_type": "markdown",
   "id": "5e407bd6",
   "metadata": {},
   "source": [
    "<b><u>Задача:</u></b>\n",
    "\n",
    "Исследовать данные и ответить на вопросы\n",
    "1.\tЕсть ли зависимость между количеством детей и возвратом кредита в срок?\n",
    "2.\tЕсть ли зависимость между семейным положением и возвратом кредита в срок?\n",
    "3.\tЕсть ли зависимость между уровнем дохода и возвратом кредита в срок?\n",
    "4.\tКак разные цели кредита влияют на его возврат в срок?\n",
    "5.\tПриведите возможные причины появления пропусков в исходных данных.\n",
    "6.\tОбъясните, почему заполнить пропуски медианным значением — лучшее решение для количественных переменных."
   ]
  },
  {
   "cell_type": "code",
   "execution_count": 42,
   "id": "466969e8",
   "metadata": {
    "deletable": false,
    "id": "7bcf75c9"
   },
   "outputs": [],
   "source": [
    "import pandas as pd\n",
    "\n",
    "try:\n",
    "    data = pd.read_csv('/datasets/data.csv')\n",
    "except:\n",
    "    data = pd.read_csv('https://code.s3.yandex.net/datasets/data.csv')"
   ]
  },
  {
   "cell_type": "code",
   "execution_count": 43,
   "id": "33459609",
   "metadata": {
    "deletable": false,
    "id": "2a7cab99",
    "outputId": "1a8f3ef2-d323-4ec2-ddf7-89670b5944c4"
   },
   "outputs": [
    {
     "data": {
      "text/html": [
       "<div>\n",
       "<style scoped>\n",
       "    .dataframe tbody tr th:only-of-type {\n",
       "        vertical-align: middle;\n",
       "    }\n",
       "\n",
       "    .dataframe tbody tr th {\n",
       "        vertical-align: top;\n",
       "    }\n",
       "\n",
       "    .dataframe thead th {\n",
       "        text-align: right;\n",
       "    }\n",
       "</style>\n",
       "<table border=\"1\" class=\"dataframe\">\n",
       "  <thead>\n",
       "    <tr style=\"text-align: right;\">\n",
       "      <th></th>\n",
       "      <th>children</th>\n",
       "      <th>days_employed</th>\n",
       "      <th>dob_years</th>\n",
       "      <th>education</th>\n",
       "      <th>education_id</th>\n",
       "      <th>family_status</th>\n",
       "      <th>family_status_id</th>\n",
       "      <th>gender</th>\n",
       "      <th>income_type</th>\n",
       "      <th>debt</th>\n",
       "      <th>total_income</th>\n",
       "      <th>purpose</th>\n",
       "    </tr>\n",
       "  </thead>\n",
       "  <tbody>\n",
       "    <tr>\n",
       "      <th>0</th>\n",
       "      <td>1</td>\n",
       "      <td>-8437.673028</td>\n",
       "      <td>42</td>\n",
       "      <td>высшее</td>\n",
       "      <td>0</td>\n",
       "      <td>женат / замужем</td>\n",
       "      <td>0</td>\n",
       "      <td>F</td>\n",
       "      <td>сотрудник</td>\n",
       "      <td>0</td>\n",
       "      <td>253875.639453</td>\n",
       "      <td>покупка жилья</td>\n",
       "    </tr>\n",
       "    <tr>\n",
       "      <th>1</th>\n",
       "      <td>1</td>\n",
       "      <td>-4024.803754</td>\n",
       "      <td>36</td>\n",
       "      <td>среднее</td>\n",
       "      <td>1</td>\n",
       "      <td>женат / замужем</td>\n",
       "      <td>0</td>\n",
       "      <td>F</td>\n",
       "      <td>сотрудник</td>\n",
       "      <td>0</td>\n",
       "      <td>112080.014102</td>\n",
       "      <td>приобретение автомобиля</td>\n",
       "    </tr>\n",
       "    <tr>\n",
       "      <th>2</th>\n",
       "      <td>0</td>\n",
       "      <td>-5623.422610</td>\n",
       "      <td>33</td>\n",
       "      <td>Среднее</td>\n",
       "      <td>1</td>\n",
       "      <td>женат / замужем</td>\n",
       "      <td>0</td>\n",
       "      <td>M</td>\n",
       "      <td>сотрудник</td>\n",
       "      <td>0</td>\n",
       "      <td>145885.952297</td>\n",
       "      <td>покупка жилья</td>\n",
       "    </tr>\n",
       "    <tr>\n",
       "      <th>3</th>\n",
       "      <td>3</td>\n",
       "      <td>-4124.747207</td>\n",
       "      <td>32</td>\n",
       "      <td>среднее</td>\n",
       "      <td>1</td>\n",
       "      <td>женат / замужем</td>\n",
       "      <td>0</td>\n",
       "      <td>M</td>\n",
       "      <td>сотрудник</td>\n",
       "      <td>0</td>\n",
       "      <td>267628.550329</td>\n",
       "      <td>дополнительное образование</td>\n",
       "    </tr>\n",
       "    <tr>\n",
       "      <th>4</th>\n",
       "      <td>0</td>\n",
       "      <td>340266.072047</td>\n",
       "      <td>53</td>\n",
       "      <td>среднее</td>\n",
       "      <td>1</td>\n",
       "      <td>гражданский брак</td>\n",
       "      <td>1</td>\n",
       "      <td>F</td>\n",
       "      <td>пенсионер</td>\n",
       "      <td>0</td>\n",
       "      <td>158616.077870</td>\n",
       "      <td>сыграть свадьбу</td>\n",
       "    </tr>\n",
       "    <tr>\n",
       "      <th>5</th>\n",
       "      <td>0</td>\n",
       "      <td>-926.185831</td>\n",
       "      <td>27</td>\n",
       "      <td>высшее</td>\n",
       "      <td>0</td>\n",
       "      <td>гражданский брак</td>\n",
       "      <td>1</td>\n",
       "      <td>M</td>\n",
       "      <td>компаньон</td>\n",
       "      <td>0</td>\n",
       "      <td>255763.565419</td>\n",
       "      <td>покупка жилья</td>\n",
       "    </tr>\n",
       "    <tr>\n",
       "      <th>6</th>\n",
       "      <td>0</td>\n",
       "      <td>-2879.202052</td>\n",
       "      <td>43</td>\n",
       "      <td>высшее</td>\n",
       "      <td>0</td>\n",
       "      <td>женат / замужем</td>\n",
       "      <td>0</td>\n",
       "      <td>F</td>\n",
       "      <td>компаньон</td>\n",
       "      <td>0</td>\n",
       "      <td>240525.971920</td>\n",
       "      <td>операции с жильем</td>\n",
       "    </tr>\n",
       "    <tr>\n",
       "      <th>7</th>\n",
       "      <td>0</td>\n",
       "      <td>-152.779569</td>\n",
       "      <td>50</td>\n",
       "      <td>СРЕДНЕЕ</td>\n",
       "      <td>1</td>\n",
       "      <td>женат / замужем</td>\n",
       "      <td>0</td>\n",
       "      <td>M</td>\n",
       "      <td>сотрудник</td>\n",
       "      <td>0</td>\n",
       "      <td>135823.934197</td>\n",
       "      <td>образование</td>\n",
       "    </tr>\n",
       "    <tr>\n",
       "      <th>8</th>\n",
       "      <td>2</td>\n",
       "      <td>-6929.865299</td>\n",
       "      <td>35</td>\n",
       "      <td>ВЫСШЕЕ</td>\n",
       "      <td>0</td>\n",
       "      <td>гражданский брак</td>\n",
       "      <td>1</td>\n",
       "      <td>F</td>\n",
       "      <td>сотрудник</td>\n",
       "      <td>0</td>\n",
       "      <td>95856.832424</td>\n",
       "      <td>на проведение свадьбы</td>\n",
       "    </tr>\n",
       "    <tr>\n",
       "      <th>9</th>\n",
       "      <td>0</td>\n",
       "      <td>-2188.756445</td>\n",
       "      <td>41</td>\n",
       "      <td>среднее</td>\n",
       "      <td>1</td>\n",
       "      <td>женат / замужем</td>\n",
       "      <td>0</td>\n",
       "      <td>M</td>\n",
       "      <td>сотрудник</td>\n",
       "      <td>0</td>\n",
       "      <td>144425.938277</td>\n",
       "      <td>покупка жилья для семьи</td>\n",
       "    </tr>\n",
       "    <tr>\n",
       "      <th>10</th>\n",
       "      <td>2</td>\n",
       "      <td>-4171.483647</td>\n",
       "      <td>36</td>\n",
       "      <td>высшее</td>\n",
       "      <td>0</td>\n",
       "      <td>женат / замужем</td>\n",
       "      <td>0</td>\n",
       "      <td>M</td>\n",
       "      <td>компаньон</td>\n",
       "      <td>0</td>\n",
       "      <td>113943.491460</td>\n",
       "      <td>покупка недвижимости</td>\n",
       "    </tr>\n",
       "    <tr>\n",
       "      <th>11</th>\n",
       "      <td>0</td>\n",
       "      <td>-792.701887</td>\n",
       "      <td>40</td>\n",
       "      <td>среднее</td>\n",
       "      <td>1</td>\n",
       "      <td>женат / замужем</td>\n",
       "      <td>0</td>\n",
       "      <td>F</td>\n",
       "      <td>сотрудник</td>\n",
       "      <td>0</td>\n",
       "      <td>77069.234271</td>\n",
       "      <td>покупка коммерческой недвижимости</td>\n",
       "    </tr>\n",
       "    <tr>\n",
       "      <th>12</th>\n",
       "      <td>0</td>\n",
       "      <td>NaN</td>\n",
       "      <td>65</td>\n",
       "      <td>среднее</td>\n",
       "      <td>1</td>\n",
       "      <td>гражданский брак</td>\n",
       "      <td>1</td>\n",
       "      <td>M</td>\n",
       "      <td>пенсионер</td>\n",
       "      <td>0</td>\n",
       "      <td>NaN</td>\n",
       "      <td>сыграть свадьбу</td>\n",
       "    </tr>\n",
       "    <tr>\n",
       "      <th>13</th>\n",
       "      <td>0</td>\n",
       "      <td>-1846.641941</td>\n",
       "      <td>54</td>\n",
       "      <td>неоконченное высшее</td>\n",
       "      <td>2</td>\n",
       "      <td>женат / замужем</td>\n",
       "      <td>0</td>\n",
       "      <td>F</td>\n",
       "      <td>сотрудник</td>\n",
       "      <td>0</td>\n",
       "      <td>130458.228857</td>\n",
       "      <td>приобретение автомобиля</td>\n",
       "    </tr>\n",
       "    <tr>\n",
       "      <th>14</th>\n",
       "      <td>0</td>\n",
       "      <td>-1844.956182</td>\n",
       "      <td>56</td>\n",
       "      <td>высшее</td>\n",
       "      <td>0</td>\n",
       "      <td>гражданский брак</td>\n",
       "      <td>1</td>\n",
       "      <td>F</td>\n",
       "      <td>компаньон</td>\n",
       "      <td>1</td>\n",
       "      <td>165127.911772</td>\n",
       "      <td>покупка жилой недвижимости</td>\n",
       "    </tr>\n",
       "    <tr>\n",
       "      <th>15</th>\n",
       "      <td>1</td>\n",
       "      <td>-972.364419</td>\n",
       "      <td>26</td>\n",
       "      <td>среднее</td>\n",
       "      <td>1</td>\n",
       "      <td>женат / замужем</td>\n",
       "      <td>0</td>\n",
       "      <td>F</td>\n",
       "      <td>сотрудник</td>\n",
       "      <td>0</td>\n",
       "      <td>116820.904450</td>\n",
       "      <td>строительство собственной недвижимости</td>\n",
       "    </tr>\n",
       "    <tr>\n",
       "      <th>16</th>\n",
       "      <td>0</td>\n",
       "      <td>-1719.934226</td>\n",
       "      <td>35</td>\n",
       "      <td>среднее</td>\n",
       "      <td>1</td>\n",
       "      <td>женат / замужем</td>\n",
       "      <td>0</td>\n",
       "      <td>F</td>\n",
       "      <td>сотрудник</td>\n",
       "      <td>0</td>\n",
       "      <td>289202.704229</td>\n",
       "      <td>недвижимость</td>\n",
       "    </tr>\n",
       "    <tr>\n",
       "      <th>17</th>\n",
       "      <td>0</td>\n",
       "      <td>-2369.999720</td>\n",
       "      <td>33</td>\n",
       "      <td>высшее</td>\n",
       "      <td>0</td>\n",
       "      <td>гражданский брак</td>\n",
       "      <td>1</td>\n",
       "      <td>M</td>\n",
       "      <td>сотрудник</td>\n",
       "      <td>0</td>\n",
       "      <td>90410.586745</td>\n",
       "      <td>строительство недвижимости</td>\n",
       "    </tr>\n",
       "    <tr>\n",
       "      <th>18</th>\n",
       "      <td>0</td>\n",
       "      <td>400281.136913</td>\n",
       "      <td>53</td>\n",
       "      <td>среднее</td>\n",
       "      <td>1</td>\n",
       "      <td>вдовец / вдова</td>\n",
       "      <td>2</td>\n",
       "      <td>F</td>\n",
       "      <td>пенсионер</td>\n",
       "      <td>0</td>\n",
       "      <td>56823.777243</td>\n",
       "      <td>на покупку подержанного автомобиля</td>\n",
       "    </tr>\n",
       "    <tr>\n",
       "      <th>19</th>\n",
       "      <td>0</td>\n",
       "      <td>-10038.818549</td>\n",
       "      <td>48</td>\n",
       "      <td>СРЕДНЕЕ</td>\n",
       "      <td>1</td>\n",
       "      <td>в разводе</td>\n",
       "      <td>3</td>\n",
       "      <td>F</td>\n",
       "      <td>сотрудник</td>\n",
       "      <td>0</td>\n",
       "      <td>242831.107982</td>\n",
       "      <td>на покупку своего автомобиля</td>\n",
       "    </tr>\n",
       "  </tbody>\n",
       "</table>\n",
       "</div>"
      ],
      "text/plain": [
       "    children  days_employed  dob_years            education  education_id  \\\n",
       "0          1   -8437.673028         42               высшее             0   \n",
       "1          1   -4024.803754         36              среднее             1   \n",
       "2          0   -5623.422610         33              Среднее             1   \n",
       "3          3   -4124.747207         32              среднее             1   \n",
       "4          0  340266.072047         53              среднее             1   \n",
       "5          0    -926.185831         27               высшее             0   \n",
       "6          0   -2879.202052         43               высшее             0   \n",
       "7          0    -152.779569         50              СРЕДНЕЕ             1   \n",
       "8          2   -6929.865299         35               ВЫСШЕЕ             0   \n",
       "9          0   -2188.756445         41              среднее             1   \n",
       "10         2   -4171.483647         36               высшее             0   \n",
       "11         0    -792.701887         40              среднее             1   \n",
       "12         0            NaN         65              среднее             1   \n",
       "13         0   -1846.641941         54  неоконченное высшее             2   \n",
       "14         0   -1844.956182         56               высшее             0   \n",
       "15         1    -972.364419         26              среднее             1   \n",
       "16         0   -1719.934226         35              среднее             1   \n",
       "17         0   -2369.999720         33               высшее             0   \n",
       "18         0  400281.136913         53              среднее             1   \n",
       "19         0  -10038.818549         48              СРЕДНЕЕ             1   \n",
       "\n",
       "       family_status  family_status_id gender income_type  debt  \\\n",
       "0    женат / замужем                 0      F   сотрудник     0   \n",
       "1    женат / замужем                 0      F   сотрудник     0   \n",
       "2    женат / замужем                 0      M   сотрудник     0   \n",
       "3    женат / замужем                 0      M   сотрудник     0   \n",
       "4   гражданский брак                 1      F   пенсионер     0   \n",
       "5   гражданский брак                 1      M   компаньон     0   \n",
       "6    женат / замужем                 0      F   компаньон     0   \n",
       "7    женат / замужем                 0      M   сотрудник     0   \n",
       "8   гражданский брак                 1      F   сотрудник     0   \n",
       "9    женат / замужем                 0      M   сотрудник     0   \n",
       "10   женат / замужем                 0      M   компаньон     0   \n",
       "11   женат / замужем                 0      F   сотрудник     0   \n",
       "12  гражданский брак                 1      M   пенсионер     0   \n",
       "13   женат / замужем                 0      F   сотрудник     0   \n",
       "14  гражданский брак                 1      F   компаньон     1   \n",
       "15   женат / замужем                 0      F   сотрудник     0   \n",
       "16   женат / замужем                 0      F   сотрудник     0   \n",
       "17  гражданский брак                 1      M   сотрудник     0   \n",
       "18    вдовец / вдова                 2      F   пенсионер     0   \n",
       "19         в разводе                 3      F   сотрудник     0   \n",
       "\n",
       "     total_income                                 purpose  \n",
       "0   253875.639453                           покупка жилья  \n",
       "1   112080.014102                 приобретение автомобиля  \n",
       "2   145885.952297                           покупка жилья  \n",
       "3   267628.550329              дополнительное образование  \n",
       "4   158616.077870                         сыграть свадьбу  \n",
       "5   255763.565419                           покупка жилья  \n",
       "6   240525.971920                       операции с жильем  \n",
       "7   135823.934197                             образование  \n",
       "8    95856.832424                   на проведение свадьбы  \n",
       "9   144425.938277                 покупка жилья для семьи  \n",
       "10  113943.491460                    покупка недвижимости  \n",
       "11   77069.234271       покупка коммерческой недвижимости  \n",
       "12            NaN                         сыграть свадьбу  \n",
       "13  130458.228857                 приобретение автомобиля  \n",
       "14  165127.911772              покупка жилой недвижимости  \n",
       "15  116820.904450  строительство собственной недвижимости  \n",
       "16  289202.704229                            недвижимость  \n",
       "17   90410.586745              строительство недвижимости  \n",
       "18   56823.777243      на покупку подержанного автомобиля  \n",
       "19  242831.107982            на покупку своего автомобиля  "
      ]
     },
     "execution_count": 43,
     "metadata": {},
     "output_type": "execute_result"
    }
   ],
   "source": [
    "data.head(20)"
   ]
  },
  {
   "cell_type": "code",
   "execution_count": 44,
   "id": "b6f9709f",
   "metadata": {
    "deletable": false,
    "id": "2b757bca",
    "outputId": "15376089-8dad-46c9-b520-c05248d43158"
   },
   "outputs": [
    {
     "name": "stdout",
     "output_type": "stream",
     "text": [
      "<class 'pandas.core.frame.DataFrame'>\n",
      "RangeIndex: 21525 entries, 0 to 21524\n",
      "Data columns (total 12 columns):\n",
      " #   Column            Non-Null Count  Dtype  \n",
      "---  ------            --------------  -----  \n",
      " 0   children          21525 non-null  int64  \n",
      " 1   days_employed     19351 non-null  float64\n",
      " 2   dob_years         21525 non-null  int64  \n",
      " 3   education         21525 non-null  object \n",
      " 4   education_id      21525 non-null  int64  \n",
      " 5   family_status     21525 non-null  object \n",
      " 6   family_status_id  21525 non-null  int64  \n",
      " 7   gender            21525 non-null  object \n",
      " 8   income_type       21525 non-null  object \n",
      " 9   debt              21525 non-null  int64  \n",
      " 10  total_income      19351 non-null  float64\n",
      " 11  purpose           21525 non-null  object \n",
      "dtypes: float64(2), int64(5), object(5)\n",
      "memory usage: 2.0+ MB\n"
     ]
    }
   ],
   "source": [
    "data.info()"
   ]
  },
  {
   "cell_type": "markdown",
   "id": "49f4db04",
   "metadata": {
    "deletable": false,
    "editable": false,
    "id": "333ec665"
   },
   "source": [
    "## Предобработка данных"
   ]
  },
  {
   "cell_type": "markdown",
   "id": "3bab3515",
   "metadata": {
    "deletable": false,
    "editable": false,
    "id": "02d92d53"
   },
   "source": [
    "### Удаление пропусков"
   ]
  },
  {
   "cell_type": "code",
   "execution_count": 45,
   "id": "8da5f52f",
   "metadata": {
    "deletable": false,
    "id": "7f9b2309",
    "outputId": "81f4d817-781c-465c-ed15-91ce4446810d"
   },
   "outputs": [
    {
     "data": {
      "text/plain": [
       "children               0\n",
       "days_employed       2174\n",
       "dob_years              0\n",
       "education              0\n",
       "education_id           0\n",
       "family_status          0\n",
       "family_status_id       0\n",
       "gender                 0\n",
       "income_type            0\n",
       "debt                   0\n",
       "total_income        2174\n",
       "purpose                0\n",
       "dtype: int64"
      ]
     },
     "execution_count": 45,
     "metadata": {},
     "output_type": "execute_result"
    }
   ],
   "source": [
    "data.isna().sum()"
   ]
  },
  {
   "cell_type": "code",
   "execution_count": 46,
   "id": "38a13c8e",
   "metadata": {
    "deletable": false,
    "id": "42006a93"
   },
   "outputs": [],
   "source": [
    "for t in data['income_type'].unique():\n",
    "    data.loc[(data['income_type'] == t) & (data['total_income'].isna()), 'total_income'] = \\\n",
    "    data.loc[(data['income_type'] == t), 'total_income'].median()"
   ]
  },
  {
   "cell_type": "code",
   "execution_count": 47,
   "id": "3526e8de",
   "metadata": {},
   "outputs": [
    {
     "name": "stdout",
     "output_type": "stream",
     "text": [
      "<class 'pandas.core.frame.DataFrame'>\n",
      "RangeIndex: 21525 entries, 0 to 21524\n",
      "Data columns (total 12 columns):\n",
      " #   Column            Non-Null Count  Dtype  \n",
      "---  ------            --------------  -----  \n",
      " 0   children          21525 non-null  int64  \n",
      " 1   days_employed     19351 non-null  float64\n",
      " 2   dob_years         21525 non-null  int64  \n",
      " 3   education         21525 non-null  object \n",
      " 4   education_id      21525 non-null  int64  \n",
      " 5   family_status     21525 non-null  object \n",
      " 6   family_status_id  21525 non-null  int64  \n",
      " 7   gender            21525 non-null  object \n",
      " 8   income_type       21525 non-null  object \n",
      " 9   debt              21525 non-null  int64  \n",
      " 10  total_income      21525 non-null  float64\n",
      " 11  purpose           21525 non-null  object \n",
      "dtypes: float64(2), int64(5), object(5)\n",
      "memory usage: 2.0+ MB\n"
     ]
    }
   ],
   "source": [
    "data.info()"
   ]
  },
  {
   "cell_type": "markdown",
   "id": "c884fa29",
   "metadata": {
    "deletable": false,
    "editable": false,
    "id": "89da5ece"
   },
   "source": [
    "### Обработка аномальных значений"
   ]
  },
  {
   "cell_type": "code",
   "execution_count": 48,
   "id": "f42c45c9",
   "metadata": {
    "deletable": false,
    "id": "f6f055bf"
   },
   "outputs": [],
   "source": [
    "data['days_employed'] = data['days_employed'].abs()"
   ]
  },
  {
   "cell_type": "code",
   "execution_count": 49,
   "id": "a6774abb",
   "metadata": {
    "deletable": false,
    "id": "85a5faf6",
    "outputId": "801ef80e-522b-4668-f34e-565af7432bcf"
   },
   "outputs": [
    {
     "data": {
      "text/plain": [
       "income_type\n",
       "безработный        366413.652744\n",
       "в декрете            3296.759962\n",
       "госслужащий          2689.368353\n",
       "компаньон            1547.382223\n",
       "пенсионер          365213.306266\n",
       "предприниматель       520.848083\n",
       "сотрудник            1574.202821\n",
       "студент               578.751554\n",
       "Name: days_employed, dtype: float64"
      ]
     },
     "execution_count": 49,
     "metadata": {},
     "output_type": "execute_result"
    }
   ],
   "source": [
    "data.groupby('income_type')['days_employed'].agg('median')"
   ]
  },
  {
   "cell_type": "markdown",
   "id": "737c7d30",
   "metadata": {
    "deletable": false,
    "editable": false,
    "id": "38d1a030"
   },
   "source": [
    "У двух типов (безработные и пенсионеры) получатся аномально большие значения. Исправить такие значения сложно, поэтому оставьте их как есть. Тем более этот столбец не понадобится вам для исследования."
   ]
  },
  {
   "cell_type": "code",
   "execution_count": 50,
   "id": "bc31f8cd",
   "metadata": {
    "deletable": false,
    "id": "ef5056eb",
    "outputId": "6975b15c-7f95-4697-d16d-a0c79b657b03"
   },
   "outputs": [
    {
     "data": {
      "text/plain": [
       "array([ 1,  0,  3,  2, -1,  4, 20,  5])"
      ]
     },
     "execution_count": 50,
     "metadata": {},
     "output_type": "execute_result"
    }
   ],
   "source": [
    "data['children'].unique()"
   ]
  },
  {
   "cell_type": "code",
   "execution_count": 51,
   "id": "9a143d96",
   "metadata": {
    "deletable": false,
    "id": "3ff9801d"
   },
   "outputs": [],
   "source": [
    "data = data[(data['children'] != -1) & (data['children'] != 20)]"
   ]
  },
  {
   "cell_type": "code",
   "execution_count": 52,
   "id": "4e3a7d1f",
   "metadata": {
    "deletable": false,
    "id": "ad4fa8b7",
    "outputId": "b2097101-d49d-44d9-901b-32a65c9463d1"
   },
   "outputs": [
    {
     "data": {
      "text/plain": [
       "array([1, 0, 3, 2, 4, 5])"
      ]
     },
     "execution_count": 52,
     "metadata": {},
     "output_type": "execute_result"
    }
   ],
   "source": [
    "data['children'].unique()"
   ]
  },
  {
   "cell_type": "markdown",
   "id": "31f3df80",
   "metadata": {
    "deletable": false,
    "editable": false,
    "id": "75440b63"
   },
   "source": [
    "### Удаление пропусков (продолжение)"
   ]
  },
  {
   "cell_type": "code",
   "execution_count": 53,
   "id": "ce1b57c3",
   "metadata": {
    "deletable": false,
    "id": "af6b1a7e"
   },
   "outputs": [],
   "source": [
    "for t in data['income_type'].unique():\n",
    "    data.loc[(data['income_type'] == t) & (data['days_employed'].isna()), 'days_employed'] = \\\n",
    "    data.loc[(data['income_type'] == t), 'days_employed'].median()"
   ]
  },
  {
   "cell_type": "code",
   "execution_count": 54,
   "id": "94a59a8a",
   "metadata": {
    "deletable": false,
    "id": "55f78bc2",
    "outputId": "8da1e4e1-358e-4e87-98c9-f261bce0a7b2"
   },
   "outputs": [
    {
     "data": {
      "text/plain": [
       "children            0\n",
       "days_employed       0\n",
       "dob_years           0\n",
       "education           0\n",
       "education_id        0\n",
       "family_status       0\n",
       "family_status_id    0\n",
       "gender              0\n",
       "income_type         0\n",
       "debt                0\n",
       "total_income        0\n",
       "purpose             0\n",
       "dtype: int64"
      ]
     },
     "execution_count": 54,
     "metadata": {},
     "output_type": "execute_result"
    }
   ],
   "source": [
    "data.isna().sum()"
   ]
  },
  {
   "cell_type": "markdown",
   "id": "c19ba6f3",
   "metadata": {
    "deletable": false,
    "editable": false,
    "id": "ddc81e43"
   },
   "source": [
    "### Изменение типов данных"
   ]
  },
  {
   "cell_type": "code",
   "execution_count": 55,
   "id": "092024b4",
   "metadata": {
    "deletable": false,
    "id": "920b65ad"
   },
   "outputs": [],
   "source": [
    "data['total_income'] = data['total_income'].astype(int)"
   ]
  },
  {
   "cell_type": "markdown",
   "id": "eaa56ab7",
   "metadata": {
    "deletable": false,
    "editable": false,
    "id": "80c420ba"
   },
   "source": [
    "### Обработка дубликатов"
   ]
  },
  {
   "cell_type": "code",
   "execution_count": 56,
   "id": "55fb5d8f",
   "metadata": {
    "deletable": false
   },
   "outputs": [],
   "source": [
    "data['education'] = data['education'].str.lower()"
   ]
  },
  {
   "cell_type": "code",
   "execution_count": 15,
   "id": "437352d7",
   "metadata": {
    "deletable": false,
    "id": "3ee445e4",
    "outputId": "9684deba-1934-42d1-99e1-cda61740f822"
   },
   "outputs": [
    {
     "data": {
      "text/plain": [
       "71"
      ]
     },
     "execution_count": 15,
     "metadata": {},
     "output_type": "execute_result"
    }
   ],
   "source": [
    "data.duplicated().sum()"
   ]
  },
  {
   "cell_type": "code",
   "execution_count": 57,
   "id": "4f1c7f90",
   "metadata": {
    "deletable": false,
    "id": "8575fe05"
   },
   "outputs": [],
   "source": [
    "data = data.drop_duplicates()"
   ]
  },
  {
   "cell_type": "code",
   "execution_count": 58,
   "id": "0dced25a",
   "metadata": {},
   "outputs": [
    {
     "name": "stdout",
     "output_type": "stream",
     "text": [
      "<class 'pandas.core.frame.DataFrame'>\n",
      "Int64Index: 21331 entries, 0 to 21524\n",
      "Data columns (total 12 columns):\n",
      " #   Column            Non-Null Count  Dtype  \n",
      "---  ------            --------------  -----  \n",
      " 0   children          21331 non-null  int64  \n",
      " 1   days_employed     21331 non-null  float64\n",
      " 2   dob_years         21331 non-null  int64  \n",
      " 3   education         21331 non-null  object \n",
      " 4   education_id      21331 non-null  int64  \n",
      " 5   family_status     21331 non-null  object \n",
      " 6   family_status_id  21331 non-null  int64  \n",
      " 7   gender            21331 non-null  object \n",
      " 8   income_type       21331 non-null  object \n",
      " 9   debt              21331 non-null  int64  \n",
      " 10  total_income      21331 non-null  int64  \n",
      " 11  purpose           21331 non-null  object \n",
      "dtypes: float64(1), int64(6), object(5)\n",
      "memory usage: 2.1+ MB\n"
     ]
    }
   ],
   "source": [
    "data.info()"
   ]
  },
  {
   "cell_type": "markdown",
   "id": "3867d527",
   "metadata": {
    "deletable": false,
    "editable": false,
    "id": "9904cf55"
   },
   "source": [
    "### Категоризация данных"
   ]
  },
  {
   "cell_type": "code",
   "execution_count": 17,
   "id": "18b883dc",
   "metadata": {
    "deletable": false,
    "id": "e1771346"
   },
   "outputs": [],
   "source": [
    "def categorize_income(income):\n",
    "    try:\n",
    "        if 0 <= income <= 30000:\n",
    "            return 'E'\n",
    "        elif 30001 <= income <= 50000:\n",
    "            return 'D'\n",
    "        elif 50001 <= income <= 200000:\n",
    "            return 'C'\n",
    "        elif 200001 <= income <= 1000000:\n",
    "            return 'B'\n",
    "        elif income >= 1000001:\n",
    "            return 'A'\n",
    "    except:\n",
    "        pass"
   ]
  },
  {
   "cell_type": "code",
   "execution_count": 18,
   "id": "16eff1d6",
   "metadata": {
    "deletable": false,
    "id": "d5f3586d"
   },
   "outputs": [],
   "source": [
    "data['total_income_category'] = data['total_income'].apply(categorize_income)"
   ]
  },
  {
   "cell_type": "code",
   "execution_count": 19,
   "id": "52da3ba7",
   "metadata": {
    "deletable": false,
    "id": "f67ce9b3",
    "outputId": "673c12d9-7d7e-4ae0-9812-c622c89dd244"
   },
   "outputs": [
    {
     "data": {
      "text/plain": [
       "array(['покупка жилья', 'приобретение автомобиля',\n",
       "       'дополнительное образование', 'сыграть свадьбу',\n",
       "       'операции с жильем', 'образование', 'на проведение свадьбы',\n",
       "       'покупка жилья для семьи', 'покупка недвижимости',\n",
       "       'покупка коммерческой недвижимости', 'покупка жилой недвижимости',\n",
       "       'строительство собственной недвижимости', 'недвижимость',\n",
       "       'строительство недвижимости', 'на покупку подержанного автомобиля',\n",
       "       'на покупку своего автомобиля',\n",
       "       'операции с коммерческой недвижимостью',\n",
       "       'строительство жилой недвижимости', 'жилье',\n",
       "       'операции со своей недвижимостью', 'автомобили',\n",
       "       'заняться образованием', 'сделка с подержанным автомобилем',\n",
       "       'получение образования', 'автомобиль', 'свадьба',\n",
       "       'получение дополнительного образования', 'покупка своего жилья',\n",
       "       'операции с недвижимостью', 'получение высшего образования',\n",
       "       'свой автомобиль', 'сделка с автомобилем',\n",
       "       'профильное образование', 'высшее образование',\n",
       "       'покупка жилья для сдачи', 'на покупку автомобиля', 'ремонт жилью',\n",
       "       'заняться высшим образованием'], dtype=object)"
      ]
     },
     "execution_count": 19,
     "metadata": {},
     "output_type": "execute_result"
    }
   ],
   "source": [
    "data['purpose'].unique()"
   ]
  },
  {
   "cell_type": "code",
   "execution_count": 20,
   "id": "77db5411",
   "metadata": {
    "deletable": false,
    "id": "e149fab4"
   },
   "outputs": [],
   "source": [
    "def categorize_purpose(row):\n",
    "    try:\n",
    "        if 'автом' in row:\n",
    "            return 'операции с автомобилем'\n",
    "        elif 'жил' in row or 'недвиж' in row:\n",
    "            return 'операции с недвижимостью'\n",
    "        elif 'свад' in row:\n",
    "            return 'проведение свадьбы'\n",
    "        elif 'образов' in row:\n",
    "            return 'получение образования'\n",
    "    except:\n",
    "        return 'нет категории'"
   ]
  },
  {
   "cell_type": "code",
   "execution_count": 21,
   "id": "037a2211",
   "metadata": {
    "deletable": false,
    "id": "bf36e69b"
   },
   "outputs": [],
   "source": [
    "data['purpose_category'] = data['purpose'].apply(categorize_purpose)"
   ]
  },
  {
   "cell_type": "markdown",
   "id": "d3718a6f",
   "metadata": {
    "deletable": false,
    "editable": false,
    "id": "09b242bf"
   },
   "source": [
    "## Исследование данных"
   ]
  },
  {
   "cell_type": "markdown",
   "id": "13c5146d",
   "metadata": {
    "deletable": false,
    "editable": false,
    "id": "c5d66278"
   },
   "source": [
    "### Есть ли зависимость между количеством детей и возвратом кредита в срок?"
   ]
  },
  {
   "cell_type": "code",
   "execution_count": 22,
   "id": "2367db56",
   "metadata": {},
   "outputs": [
    {
     "data": {
      "text/html": [
       "<div>\n",
       "<style scoped>\n",
       "    .dataframe tbody tr th:only-of-type {\n",
       "        vertical-align: middle;\n",
       "    }\n",
       "\n",
       "    .dataframe tbody tr th {\n",
       "        vertical-align: top;\n",
       "    }\n",
       "\n",
       "    .dataframe thead th {\n",
       "        text-align: right;\n",
       "    }\n",
       "</style>\n",
       "<table border=\"1\" class=\"dataframe\">\n",
       "  <thead>\n",
       "    <tr style=\"text-align: right;\">\n",
       "      <th></th>\n",
       "      <th>children</th>\n",
       "      <th>days_employed</th>\n",
       "      <th>dob_years</th>\n",
       "      <th>education</th>\n",
       "      <th>education_id</th>\n",
       "      <th>family_status</th>\n",
       "      <th>family_status_id</th>\n",
       "      <th>gender</th>\n",
       "      <th>income_type</th>\n",
       "      <th>debt</th>\n",
       "      <th>total_income</th>\n",
       "      <th>purpose</th>\n",
       "      <th>total_income_category</th>\n",
       "      <th>purpose_category</th>\n",
       "    </tr>\n",
       "  </thead>\n",
       "  <tbody>\n",
       "    <tr>\n",
       "      <th>0</th>\n",
       "      <td>1</td>\n",
       "      <td>8437.673028</td>\n",
       "      <td>42</td>\n",
       "      <td>высшее</td>\n",
       "      <td>0</td>\n",
       "      <td>женат / замужем</td>\n",
       "      <td>0</td>\n",
       "      <td>F</td>\n",
       "      <td>сотрудник</td>\n",
       "      <td>0</td>\n",
       "      <td>253875</td>\n",
       "      <td>покупка жилья</td>\n",
       "      <td>B</td>\n",
       "      <td>операции с недвижимостью</td>\n",
       "    </tr>\n",
       "    <tr>\n",
       "      <th>1</th>\n",
       "      <td>1</td>\n",
       "      <td>4024.803754</td>\n",
       "      <td>36</td>\n",
       "      <td>среднее</td>\n",
       "      <td>1</td>\n",
       "      <td>женат / замужем</td>\n",
       "      <td>0</td>\n",
       "      <td>F</td>\n",
       "      <td>сотрудник</td>\n",
       "      <td>0</td>\n",
       "      <td>112080</td>\n",
       "      <td>приобретение автомобиля</td>\n",
       "      <td>C</td>\n",
       "      <td>операции с автомобилем</td>\n",
       "    </tr>\n",
       "    <tr>\n",
       "      <th>2</th>\n",
       "      <td>0</td>\n",
       "      <td>5623.422610</td>\n",
       "      <td>33</td>\n",
       "      <td>среднее</td>\n",
       "      <td>1</td>\n",
       "      <td>женат / замужем</td>\n",
       "      <td>0</td>\n",
       "      <td>M</td>\n",
       "      <td>сотрудник</td>\n",
       "      <td>0</td>\n",
       "      <td>145885</td>\n",
       "      <td>покупка жилья</td>\n",
       "      <td>C</td>\n",
       "      <td>операции с недвижимостью</td>\n",
       "    </tr>\n",
       "  </tbody>\n",
       "</table>\n",
       "</div>"
      ],
      "text/plain": [
       "   children  days_employed  dob_years education  education_id  \\\n",
       "0         1    8437.673028         42    высшее             0   \n",
       "1         1    4024.803754         36   среднее             1   \n",
       "2         0    5623.422610         33   среднее             1   \n",
       "\n",
       "     family_status  family_status_id gender income_type  debt  total_income  \\\n",
       "0  женат / замужем                 0      F   сотрудник     0        253875   \n",
       "1  женат / замужем                 0      F   сотрудник     0        112080   \n",
       "2  женат / замужем                 0      M   сотрудник     0        145885   \n",
       "\n",
       "                   purpose total_income_category          purpose_category  \n",
       "0            покупка жилья                     B  операции с недвижимостью  \n",
       "1  приобретение автомобиля                     C    операции с автомобилем  \n",
       "2            покупка жилья                     C  операции с недвижимостью  "
      ]
     },
     "execution_count": 22,
     "metadata": {},
     "output_type": "execute_result"
    }
   ],
   "source": [
    "data.head(3)"
   ]
  },
  {
   "cell_type": "code",
   "execution_count": 23,
   "id": "90d19cd1",
   "metadata": {
    "deletable": false,
    "id": "2cacfc4a"
   },
   "outputs": [
    {
     "data": {
      "text/plain": [
       "array([0, 1])"
      ]
     },
     "execution_count": 23,
     "metadata": {},
     "output_type": "execute_result"
    }
   ],
   "source": [
    "# за возврат кредита в срок видиом отвечает колонка 'debt' \n",
    "# 0 - возврат в срок\n",
    "# 1 - невозврат в срок\n",
    "\n",
    "data['debt'].unique()"
   ]
  },
  {
   "cell_type": "code",
   "execution_count": 24,
   "id": "3eca6b84",
   "metadata": {},
   "outputs": [
    {
     "data": {
      "text/html": [
       "<div>\n",
       "<style scoped>\n",
       "    .dataframe tbody tr th:only-of-type {\n",
       "        vertical-align: middle;\n",
       "    }\n",
       "\n",
       "    .dataframe tbody tr th {\n",
       "        vertical-align: top;\n",
       "    }\n",
       "\n",
       "    .dataframe thead th {\n",
       "        text-align: right;\n",
       "    }\n",
       "</style>\n",
       "<table border=\"1\" class=\"dataframe\">\n",
       "  <thead>\n",
       "    <tr style=\"text-align: right;\">\n",
       "      <th></th>\n",
       "      <th>children</th>\n",
       "      <th>debt_share</th>\n",
       "    </tr>\n",
       "  </thead>\n",
       "  <tbody>\n",
       "    <tr>\n",
       "      <th>0</th>\n",
       "      <td>14091</td>\n",
       "      <td>0.075</td>\n",
       "    </tr>\n",
       "    <tr>\n",
       "      <th>1</th>\n",
       "      <td>4808</td>\n",
       "      <td>0.092</td>\n",
       "    </tr>\n",
       "    <tr>\n",
       "      <th>2</th>\n",
       "      <td>2052</td>\n",
       "      <td>0.095</td>\n",
       "    </tr>\n",
       "    <tr>\n",
       "      <th>3</th>\n",
       "      <td>330</td>\n",
       "      <td>0.082</td>\n",
       "    </tr>\n",
       "    <tr>\n",
       "      <th>4</th>\n",
       "      <td>41</td>\n",
       "      <td>0.098</td>\n",
       "    </tr>\n",
       "    <tr>\n",
       "      <th>5</th>\n",
       "      <td>9</td>\n",
       "      <td>0.000</td>\n",
       "    </tr>\n",
       "  </tbody>\n",
       "</table>\n",
       "</div>"
      ],
      "text/plain": [
       "   children  debt_share\n",
       "0     14091       0.075\n",
       "1      4808       0.092\n",
       "2      2052       0.095\n",
       "3       330       0.082\n",
       "4        41       0.098\n",
       "5         9       0.000"
      ]
     },
     "execution_count": 24,
     "metadata": {},
     "output_type": "execute_result"
    }
   ],
   "source": [
    "# сформируем таблицу со значениями количества строк в каждой группе с определенным количеством детей\n",
    "# и соответсвующей им доли невозвратов в срок \n",
    "\n",
    "children_debt_share = data.groupby(['children'], as_index=False)['children'].count()\n",
    "children_debt_share['debt_share'] = round((data.groupby('children')['debt'].mean()), 3)\n",
    "children_debt_share"
   ]
  },
  {
   "cell_type": "code",
   "execution_count": 25,
   "id": "7a226ebb",
   "metadata": {},
   "outputs": [
    {
     "data": {
      "text/html": [
       "<div>\n",
       "<style scoped>\n",
       "    .dataframe tbody tr th:only-of-type {\n",
       "        vertical-align: middle;\n",
       "    }\n",
       "\n",
       "    .dataframe tbody tr th {\n",
       "        vertical-align: top;\n",
       "    }\n",
       "\n",
       "    .dataframe thead tr th {\n",
       "        text-align: left;\n",
       "    }\n",
       "\n",
       "    .dataframe thead tr:last-of-type th {\n",
       "        text-align: right;\n",
       "    }\n",
       "</style>\n",
       "<table border=\"1\" class=\"dataframe\">\n",
       "  <thead>\n",
       "    <tr>\n",
       "      <th></th>\n",
       "      <th colspan=\"2\" halign=\"left\">debt</th>\n",
       "      <th>debt_share</th>\n",
       "    </tr>\n",
       "    <tr>\n",
       "      <th></th>\n",
       "      <th>count</th>\n",
       "      <th>sum</th>\n",
       "      <th></th>\n",
       "    </tr>\n",
       "    <tr>\n",
       "      <th>children</th>\n",
       "      <th></th>\n",
       "      <th></th>\n",
       "      <th></th>\n",
       "    </tr>\n",
       "  </thead>\n",
       "  <tbody>\n",
       "    <tr>\n",
       "      <th>0</th>\n",
       "      <td>14091</td>\n",
       "      <td>1063</td>\n",
       "      <td>0.075438</td>\n",
       "    </tr>\n",
       "    <tr>\n",
       "      <th>1</th>\n",
       "      <td>4808</td>\n",
       "      <td>444</td>\n",
       "      <td>0.092346</td>\n",
       "    </tr>\n",
       "    <tr>\n",
       "      <th>2</th>\n",
       "      <td>2052</td>\n",
       "      <td>194</td>\n",
       "      <td>0.094542</td>\n",
       "    </tr>\n",
       "    <tr>\n",
       "      <th>3</th>\n",
       "      <td>330</td>\n",
       "      <td>27</td>\n",
       "      <td>0.081818</td>\n",
       "    </tr>\n",
       "    <tr>\n",
       "      <th>4</th>\n",
       "      <td>41</td>\n",
       "      <td>4</td>\n",
       "      <td>0.097561</td>\n",
       "    </tr>\n",
       "    <tr>\n",
       "      <th>5</th>\n",
       "      <td>9</td>\n",
       "      <td>0</td>\n",
       "      <td>0.000000</td>\n",
       "    </tr>\n",
       "  </tbody>\n",
       "</table>\n",
       "</div>"
      ],
      "text/plain": [
       "           debt       debt_share\n",
       "          count   sum           \n",
       "children                        \n",
       "0         14091  1063   0.075438\n",
       "1          4808   444   0.092346\n",
       "2          2052   194   0.094542\n",
       "3           330    27   0.081818\n",
       "4            41     4   0.097561\n",
       "5             9     0   0.000000"
      ]
     },
     "execution_count": 25,
     "metadata": {},
     "output_type": "execute_result"
    }
   ],
   "source": [
    "children_debt_share_02 = data.groupby('children').agg({'debt': ['count', 'sum']})\n",
    "children_debt_share_02['debt_share'] = children_debt_share_02['debt']['sum'] / children_debt_share_02['debt']['count']\n",
    "children_debt_share_02"
   ]
  },
  {
   "cell_type": "code",
   "execution_count": 26,
   "id": "016f0e39",
   "metadata": {},
   "outputs": [
    {
     "data": {
      "text/plain": [
       "6"
      ]
     },
     "execution_count": 26,
     "metadata": {},
     "output_type": "execute_result"
    }
   ],
   "source": [
    "children_debt_share_02.shape[0]"
   ]
  },
  {
   "cell_type": "code",
   "execution_count": 27,
   "id": "6b4be880",
   "metadata": {},
   "outputs": [
    {
     "data": {
      "image/png": "[encoded data removed]",
      "text/plain": [
       "<Figure size 432x288 with 1 Axes>"
      ]
     },
     "metadata": {
      "needs_background": "light"
     },
     "output_type": "display_data"
    }
   ],
   "source": [
    "# график представления зависимости между количеством детей и возвратом кредита в срок\n",
    "\n",
    "import seaborn as sns\n",
    "import matplotlib.pyplot as plt\n",
    "grahp_bubble = sns.scatterplot(x= children_debt_share_02['debt']['sum'],\n",
    "                     y= children_debt_share_02.index,\n",
    "                     size=children_debt_share_02['debt_share'],\n",
    "                     alpha=0.5, legend=False, sizes=(100, 2000),\n",
    "                     palette=\"Paired\")\n",
    "\n",
    "plt.ylim(-1, 6)\n",
    "plt.xlim(-100, 1200)\n",
    "plt.title(\"Доли невозвратов в группах с разным количеством детей\",fontsize=11,fontweight='semibold')\n",
    "plt.xlabel(\"Количество людей в группе\",fontsize=9,fontweight='semibold')\n",
    "plt.ylabel(\"Группы клиентов по количеству детей\",fontsize=9,fontweight='semibold')\n",
    "for i in range(0,children_debt_share_02.shape[0]):\n",
    "    grahp_bubble.text(children_debt_share_02['debt']['sum'][i],\n",
    "                   children_debt_share_02.index[i],\n",
    "                round(children_debt_share_02['debt_share'][i],3),\n",
    "           horizontalalignment='center', color='black', size='small', weight='semibold')"
   ]
  },
  {
   "cell_type": "markdown",
   "id": "263351e1",
   "metadata": {
    "deletable": false,
    "id": "3a6b99ec"
   },
   "source": [
    "<b>**Вывод:** </b>\n",
    "    \n",
    "Доля невозвратов меньше всего в группе с 5 детьми детей, а самое большее в группе с 4 детьми. Однако общее количество клиентов в группах с 5, 4 и 3 детьми существенно ниже остальных групп. Делать однозначные выводы в такой ситуации не совсем корректно. Есть неболоьшая тендеции в снижении процента невозврата в группе клиентов без детей."
   ]
  },
  {
   "cell_type": "markdown",
   "id": "2f1868c0",
   "metadata": {
    "deletable": false,
    "editable": false,
    "id": "97be82ca"
   },
   "source": [
    "### Есть ли зависимость между семейным положением и возвратом кредита в срок?"
   ]
  },
  {
   "cell_type": "code",
   "execution_count": 28,
   "id": "bf52a092",
   "metadata": {
    "deletable": false,
    "id": "dc3f7ee8"
   },
   "outputs": [
    {
     "data": {
      "text/plain": [
       "array(['женат / замужем', 'гражданский брак', 'вдовец / вдова',\n",
       "       'в разводе', 'Не женат / не замужем'], dtype=object)"
      ]
     },
     "execution_count": 28,
     "metadata": {},
     "output_type": "execute_result"
    }
   ],
   "source": [
    "# посмотрим на уникальные значения колонки 'family_status'\n",
    "data['family_status'].unique()"
   ]
  },
  {
   "cell_type": "code",
   "execution_count": 29,
   "id": "95dea82f",
   "metadata": {},
   "outputs": [
    {
     "data": {
      "text/html": [
       "<div>\n",
       "<style scoped>\n",
       "    .dataframe tbody tr th:only-of-type {\n",
       "        vertical-align: middle;\n",
       "    }\n",
       "\n",
       "    .dataframe tbody tr th {\n",
       "        vertical-align: top;\n",
       "    }\n",
       "\n",
       "    .dataframe thead tr th {\n",
       "        text-align: left;\n",
       "    }\n",
       "\n",
       "    .dataframe thead tr:last-of-type th {\n",
       "        text-align: right;\n",
       "    }\n",
       "</style>\n",
       "<table border=\"1\" class=\"dataframe\">\n",
       "  <thead>\n",
       "    <tr>\n",
       "      <th></th>\n",
       "      <th colspan=\"2\" halign=\"left\">debt</th>\n",
       "      <th>debt_share</th>\n",
       "    </tr>\n",
       "    <tr>\n",
       "      <th></th>\n",
       "      <th>count</th>\n",
       "      <th>sum</th>\n",
       "      <th></th>\n",
       "    </tr>\n",
       "    <tr>\n",
       "      <th>family_status</th>\n",
       "      <th></th>\n",
       "      <th></th>\n",
       "      <th></th>\n",
       "    </tr>\n",
       "  </thead>\n",
       "  <tbody>\n",
       "    <tr>\n",
       "      <th>Не женат / не замужем</th>\n",
       "      <td>2796</td>\n",
       "      <td>273</td>\n",
       "      <td>0.097639</td>\n",
       "    </tr>\n",
       "    <tr>\n",
       "      <th>в разводе</th>\n",
       "      <td>1189</td>\n",
       "      <td>84</td>\n",
       "      <td>0.070648</td>\n",
       "    </tr>\n",
       "    <tr>\n",
       "      <th>вдовец / вдова</th>\n",
       "      <td>951</td>\n",
       "      <td>63</td>\n",
       "      <td>0.066246</td>\n",
       "    </tr>\n",
       "    <tr>\n",
       "      <th>гражданский брак</th>\n",
       "      <td>4134</td>\n",
       "      <td>385</td>\n",
       "      <td>0.093130</td>\n",
       "    </tr>\n",
       "    <tr>\n",
       "      <th>женат / замужем</th>\n",
       "      <td>12261</td>\n",
       "      <td>927</td>\n",
       "      <td>0.075606</td>\n",
       "    </tr>\n",
       "  </tbody>\n",
       "</table>\n",
       "</div>"
      ],
      "text/plain": [
       "                        debt      debt_share\n",
       "                       count  sum           \n",
       "family_status                               \n",
       "Не женат / не замужем   2796  273   0.097639\n",
       "в разводе               1189   84   0.070648\n",
       "вдовец / вдова           951   63   0.066246\n",
       "гражданский брак        4134  385   0.093130\n",
       "женат / замужем        12261  927   0.075606"
      ]
     },
     "execution_count": 29,
     "metadata": {},
     "output_type": "execute_result"
    }
   ],
   "source": [
    "f_status_grouped_debt_share = data.groupby('family_status').agg({'debt': ['count', 'sum']})\n",
    "f_status_grouped_debt_share['debt_share'] = f_status_grouped_debt_share['debt']['sum'] / f_status_grouped_debt_share['debt']['count']\n",
    "f_status_grouped_debt_share"
   ]
  },
  {
   "cell_type": "code",
   "execution_count": 30,
   "id": "a592a4d1",
   "metadata": {},
   "outputs": [
    {
     "data": {
      "image/png": "[encoded data removed]",
      "text/plain": [
       "<Figure size 432x288 with 1 Axes>"
      ]
     },
     "metadata": {
      "needs_background": "light"
     },
     "output_type": "display_data"
    }
   ],
   "source": [
    "# график представления зависимости между семейным положением и возвратом кредита в срок\n",
    "\n",
    "grahp_bubble = sns.scatterplot(x= f_status_grouped_debt_share['debt']['sum'],\n",
    "                     y= f_status_grouped_debt_share.index,\n",
    "                     size=f_status_grouped_debt_share['debt_share'],\n",
    "                     alpha=0.5, legend=False, sizes=(100, 2000),\n",
    "                     palette=\"Paired\")\n",
    "\n",
    "plt.ylim(-1, 6)\n",
    "plt.xlim(-100, 1200)\n",
    "plt.title(\"Доли невозвратов в группах с разным семейным статусом\",fontsize=11,fontweight='semibold')\n",
    "plt.xlabel(\"Количество людей в группе\",fontsize=9,fontweight='semibold')\n",
    "plt.ylabel(\"Группы клиентов по семейному статусу\",fontsize=9,fontweight='semibold')\n",
    "for i in range(0,f_status_grouped_debt_share.shape[0]):\n",
    "    grahp_bubble.text(f_status_grouped_debt_share['debt']['sum'][i],\n",
    "                   f_status_grouped_debt_share.index[i],\n",
    "                round(f_status_grouped_debt_share['debt_share'][i],3),\n",
    "           horizontalalignment='center', color='black', size='small', weight='semibold')"
   ]
  },
  {
   "cell_type": "markdown",
   "id": "41dc793d",
   "metadata": {
    "deletable": false,
    "id": "1cef7837"
   },
   "source": [
    "<b>**Вывод:** </b>\n",
    "    \n",
    "Доля невозвратов меньше всего в группах со статусом вдовец/вдова и в разводе, однако общее количество клиентов в этих группах  существенно ниже остальных. Делать однозначные выводы в такой ситуации не совсем корректно. Есть неболоьшая тендеции в снижении процента невозврата в группе клиентов женат/замужем."
   ]
  },
  {
   "cell_type": "markdown",
   "id": "2517b7e9",
   "metadata": {
    "deletable": false,
    "editable": false,
    "id": "1e8b2fca"
   },
   "source": [
    "### Есть ли зависимость между уровнем дохода и возвратом кредита в срок?"
   ]
  },
  {
   "cell_type": "code",
   "execution_count": 31,
   "id": "60c78f6d",
   "metadata": {
    "deletable": false,
    "id": "cd7e3720"
   },
   "outputs": [
    {
     "data": {
      "text/html": [
       "<div>\n",
       "<style scoped>\n",
       "    .dataframe tbody tr th:only-of-type {\n",
       "        vertical-align: middle;\n",
       "    }\n",
       "\n",
       "    .dataframe tbody tr th {\n",
       "        vertical-align: top;\n",
       "    }\n",
       "\n",
       "    .dataframe thead tr th {\n",
       "        text-align: left;\n",
       "    }\n",
       "\n",
       "    .dataframe thead tr:last-of-type th {\n",
       "        text-align: right;\n",
       "    }\n",
       "</style>\n",
       "<table border=\"1\" class=\"dataframe\">\n",
       "  <thead>\n",
       "    <tr>\n",
       "      <th></th>\n",
       "      <th colspan=\"2\" halign=\"left\">debt</th>\n",
       "      <th>debt_share</th>\n",
       "    </tr>\n",
       "    <tr>\n",
       "      <th></th>\n",
       "      <th>count</th>\n",
       "      <th>sum</th>\n",
       "      <th></th>\n",
       "    </tr>\n",
       "    <tr>\n",
       "      <th>total_income_category</th>\n",
       "      <th></th>\n",
       "      <th></th>\n",
       "      <th></th>\n",
       "    </tr>\n",
       "  </thead>\n",
       "  <tbody>\n",
       "    <tr>\n",
       "      <th>A</th>\n",
       "      <td>25</td>\n",
       "      <td>2</td>\n",
       "      <td>0.080000</td>\n",
       "    </tr>\n",
       "    <tr>\n",
       "      <th>B</th>\n",
       "      <td>5014</td>\n",
       "      <td>354</td>\n",
       "      <td>0.070602</td>\n",
       "    </tr>\n",
       "    <tr>\n",
       "      <th>C</th>\n",
       "      <td>15921</td>\n",
       "      <td>1353</td>\n",
       "      <td>0.084982</td>\n",
       "    </tr>\n",
       "    <tr>\n",
       "      <th>D</th>\n",
       "      <td>349</td>\n",
       "      <td>21</td>\n",
       "      <td>0.060172</td>\n",
       "    </tr>\n",
       "    <tr>\n",
       "      <th>E</th>\n",
       "      <td>22</td>\n",
       "      <td>2</td>\n",
       "      <td>0.090909</td>\n",
       "    </tr>\n",
       "  </tbody>\n",
       "</table>\n",
       "</div>"
      ],
      "text/plain": [
       "                        debt       debt_share\n",
       "                       count   sum           \n",
       "total_income_category                        \n",
       "A                         25     2   0.080000\n",
       "B                       5014   354   0.070602\n",
       "C                      15921  1353   0.084982\n",
       "D                        349    21   0.060172\n",
       "E                         22     2   0.090909"
      ]
     },
     "execution_count": 31,
     "metadata": {},
     "output_type": "execute_result"
    }
   ],
   "source": [
    "income_cat_grouped_debt_share = data.groupby(['total_income_category']).agg({'debt': ['count', 'sum']})\n",
    "income_cat_grouped_debt_share['debt_share'] = income_cat_grouped_debt_share['debt']['sum'] / income_cat_grouped_debt_share['debt']['count']\n",
    "income_cat_grouped_debt_share"
   ]
  },
  {
   "cell_type": "code",
   "execution_count": 32,
   "id": "8e908d46",
   "metadata": {},
   "outputs": [
    {
     "data": {
      "image/png": "[encoded data removed]",
      "text/plain": [
       "<Figure size 432x288 with 1 Axes>"
      ]
     },
     "metadata": {
      "needs_background": "light"
     },
     "output_type": "display_data"
    }
   ],
   "source": [
    "# график представления зависимости между уровнем дохода и возвратом кредита в срок\n",
    "\n",
    "grahp_bubble = sns.scatterplot(x= income_cat_grouped_debt_share['debt']['sum'],\n",
    "                     y= income_cat_grouped_debt_share.index,\n",
    "                     size=income_cat_grouped_debt_share['debt_share'],\n",
    "                     alpha=0.5, legend=False, sizes=(100, 2000),\n",
    "                     palette=\"Paired\")\n",
    "\n",
    "plt.ylim(-1, 6)\n",
    "plt.xlim(-100, 1500)\n",
    "plt.title(\"Доли невозвратов в группах с разным доходом\",fontsize=11,fontweight='semibold')\n",
    "plt.xlabel(\"Количество людей в группе\",fontsize=9,fontweight='semibold')\n",
    "plt.ylabel(\"Группы клиентов по уровню дохода\",fontsize=9,fontweight='semibold')\n",
    "for i in range(0,income_cat_grouped_debt_share.shape[0]):\n",
    "    grahp_bubble.text(income_cat_grouped_debt_share['debt']['sum'][i],\n",
    "                   income_cat_grouped_debt_share.index[i],\n",
    "                round(income_cat_grouped_debt_share['debt_share'][i],3),\n",
    "           horizontalalignment='center', color='black', size='small', weight='semibold')"
   ]
  },
  {
   "cell_type": "markdown",
   "id": "1ec5a349",
   "metadata": {
    "deletable": false,
    "id": "e8593def"
   },
   "source": [
    "<b>**Вывод:** </b>\n",
    "    \n",
    "Количество клиентов с очнь низкими, низкими и высокими доходами незначительно, поэтому делать выводы об этих группах не корректно. Группа клиентов с доходами выше среднего реже невозвращает кредит в срок в сравнении со средним доходом."
   ]
  },
  {
   "cell_type": "markdown",
   "id": "23d93bb1",
   "metadata": {
    "deletable": false,
    "editable": false,
    "id": "99ecbd1f"
   },
   "source": [
    "### Как разные цели кредита влияют на его возврат в срок?"
   ]
  },
  {
   "cell_type": "code",
   "execution_count": 33,
   "id": "4b894296",
   "metadata": {
    "deletable": false,
    "id": "2b687290"
   },
   "outputs": [
    {
     "data": {
      "text/html": [
       "<div>\n",
       "<style scoped>\n",
       "    .dataframe tbody tr th:only-of-type {\n",
       "        vertical-align: middle;\n",
       "    }\n",
       "\n",
       "    .dataframe tbody tr th {\n",
       "        vertical-align: top;\n",
       "    }\n",
       "\n",
       "    .dataframe thead tr th {\n",
       "        text-align: left;\n",
       "    }\n",
       "\n",
       "    .dataframe thead tr:last-of-type th {\n",
       "        text-align: right;\n",
       "    }\n",
       "</style>\n",
       "<table border=\"1\" class=\"dataframe\">\n",
       "  <thead>\n",
       "    <tr>\n",
       "      <th></th>\n",
       "      <th colspan=\"2\" halign=\"left\">debt</th>\n",
       "      <th>debt_share</th>\n",
       "    </tr>\n",
       "    <tr>\n",
       "      <th></th>\n",
       "      <th>count</th>\n",
       "      <th>sum</th>\n",
       "      <th></th>\n",
       "    </tr>\n",
       "    <tr>\n",
       "      <th>purpose_category</th>\n",
       "      <th></th>\n",
       "      <th></th>\n",
       "      <th></th>\n",
       "    </tr>\n",
       "  </thead>\n",
       "  <tbody>\n",
       "    <tr>\n",
       "      <th>операции с автомобилем</th>\n",
       "      <td>4279</td>\n",
       "      <td>400</td>\n",
       "      <td>0.093480</td>\n",
       "    </tr>\n",
       "    <tr>\n",
       "      <th>операции с недвижимостью</th>\n",
       "      <td>10751</td>\n",
       "      <td>780</td>\n",
       "      <td>0.072551</td>\n",
       "    </tr>\n",
       "    <tr>\n",
       "      <th>получение образования</th>\n",
       "      <td>3988</td>\n",
       "      <td>369</td>\n",
       "      <td>0.092528</td>\n",
       "    </tr>\n",
       "    <tr>\n",
       "      <th>проведение свадьбы</th>\n",
       "      <td>2313</td>\n",
       "      <td>183</td>\n",
       "      <td>0.079118</td>\n",
       "    </tr>\n",
       "  </tbody>\n",
       "</table>\n",
       "</div>"
      ],
      "text/plain": [
       "                           debt      debt_share\n",
       "                          count  sum           \n",
       "purpose_category                               \n",
       "операции с автомобилем     4279  400   0.093480\n",
       "операции с недвижимостью  10751  780   0.072551\n",
       "получение образования      3988  369   0.092528\n",
       "проведение свадьбы         2313  183   0.079118"
      ]
     },
     "execution_count": 33,
     "metadata": {},
     "output_type": "execute_result"
    }
   ],
   "source": [
    "purpose_cat_grouped_debt_share = data.groupby(['purpose_category']).agg({'debt': ['count', 'sum']})\n",
    "purpose_cat_grouped_debt_share['debt_share'] = purpose_cat_grouped_debt_share['debt']['sum'] / purpose_cat_grouped_debt_share['debt']['count']\n",
    "purpose_cat_grouped_debt_share"
   ]
  },
  {
   "cell_type": "code",
   "execution_count": 59,
   "id": "d8816c58",
   "metadata": {},
   "outputs": [
    {
     "data": {
      "image/png": "[encoded data removed]",
      "text/plain": [
       "<Figure size 432x288 with 1 Axes>"
      ]
     },
     "metadata": {
      "needs_background": "light"
     },
     "output_type": "display_data"
    }
   ],
   "source": [
    "# график представления зависимости целью кредита и возвратом кредита в срок\n",
    "\n",
    "grahp_bubble = sns.scatterplot(x= purpose_cat_grouped_debt_share['debt']['sum'],\n",
    "                     y= purpose_cat_grouped_debt_share.index,\n",
    "                     size=purpose_cat_grouped_debt_share['debt_share'],\n",
    "                     alpha=0.5, legend=False, sizes=(100, 2000),\n",
    "                     palette=\"Paired\")\n",
    "\n",
    "plt.ylim(-1, 4)\n",
    "plt.xlim(-100, 1500)\n",
    "plt.title(\"Доли невозвратов в группах с разным целями кредита\",fontsize=11,fontweight='semibold')\n",
    "plt.xlabel(\"Количество людей в группе\",fontsize=9,fontweight='semibold')\n",
    "plt.ylabel(\"Группы клиентов по целям кредита\",fontsize=9,fontweight='semibold')\n",
    "for i in range(0,purpose_cat_grouped_debt_share.shape[0]):\n",
    "    grahp_bubble.text(purpose_cat_grouped_debt_share['debt']['sum'][i],\n",
    "                   purpose_cat_grouped_debt_share.index[i],\n",
    "                round(purpose_cat_grouped_debt_share['debt_share'][i],3),\n",
    "           horizontalalignment='center', color='black', size='small', weight='semibold')"
   ]
  },
  {
   "cell_type": "markdown",
   "id": "3a25933c",
   "metadata": {
    "deletable": false,
    "id": "b4bb2ce6"
   },
   "source": [
    "<b>**Вывод:** </b>\n",
    "    \n",
    "Доля невозвратов меньше всего в группе операций с недвижимостью."
   ]
  },
  {
   "cell_type": "markdown",
   "id": "1b9ec337",
   "metadata": {
    "deletable": false,
    "editable": false,
    "id": "09c3ac4c"
   },
   "source": [
    "### Приведите возможные причины появления пропусков в исходных данных."
   ]
  },
  {
   "cell_type": "markdown",
   "id": "d677f24c",
   "metadata": {
    "deletable": false,
    "id": "9da2ceda"
   },
   "source": [
    "- ошибки при вводе данных\n",
    "- отсутствующая или неполная информация\n",
    "- проблемы конфиденциальности или безопасности данных\n",
    "- отсутствие доступа к определенным источникам данных\n",
    "- изменения или обновления в системах хранения или управления данными"
   ]
  },
  {
   "cell_type": "markdown",
   "id": "60dafabf",
   "metadata": {
    "deletable": false,
    "editable": false,
    "id": "7b0487d6"
   },
   "source": [
    "### Объясните, почему заполнить пропуски медианным значением — лучшее решение для количественных переменных."
   ]
  },
  {
   "cell_type": "markdown",
   "id": "1b699e3e",
   "metadata": {
    "deletable": false,
    "id": "7ecf2b8e"
   },
   "source": [
    "В отличие от среднего значения, которое чувствительно к выбросам, на медиану меньше влияют экстремальные значения, и она обеспечивает более репрезентативную меру типичного значения. Заполнение пропусков медианой полезно в ситуациях, когда данные имеют неравномерное(скошенное) распределение и среднее значение не обеспечивает точное представление центральной тенденции. Кроме того, на медиану меньше влияют отсутствующие данные."
   ]
  },
  {
   "cell_type": "markdown",
   "id": "0bae3659",
   "metadata": {
    "deletable": false,
    "editable": false,
    "id": "6db5255a"
   },
   "source": [
    "## Общий вывод."
   ]
  },
  {
   "attachments": {
    "image-2.png": {
     "image/png": "[encoded data removed]"
    },
    "image-3.png": {
     "image/png": "[encoded data removed]"
    },
    "image-5.png": {
     "image/png": "[encoded data removed]"
    },
    "image.png": {
     "image/png": "[encoded data removed]"
    }
   },
   "cell_type": "markdown",
   "id": "b79d229b",
   "metadata": {},
   "source": [
    "От банка был получен датасет содержащий статистику о платежеспособности клиентов. Поставлена задача разобраться, влияет ли семейное положение и количество детей клиента на факт погашения кредита в срок. Результаты предварительного анализа будут учтены при построении модели кредитного скоринга, который будет оценивает способность потенциального заёмщика вернуть кредит банку.\n",
    "\n",
    "Датасет содержит `21525 строк` и `12 колонок`.\n",
    "\n",
    "<b>Проверка данных на дубли, пропуски и аномальные значения.</b>\n",
    "    \n",
    "Пропущенные данные `2174` в колонке `total_income` были заполнены медианными значениями для групп по типу дохода, и переведены в целочисленный вид.\n",
    "\n",
    "Пропущенные данные `2174` в колонке `days_employed` были заполнены медианными значениями для групп по типу дохода. В данных `days_employed` были обнаружены отрицательные значения, которые были исправлены. Также у безработных и пенсионеров в этой категории обнаружены аномально большие значения, они оставлены без изменений.\n",
    "\n",
    "Были исправлены отрицательные значения данных в колонке `children`\n",
    "\n",
    "Неявные дубликаты в колонке `education` были обнаружены при переводе данных в нижний регистр. \n",
    "\n",
    "Полные дубликаты в датасете составили `71`. Они были удалены. Итоговый датасет составил `21331` строчки.\n",
    "\n",
    "<b>Категоризация данных.</b>\n",
    "\n",
    "Данные категории `total_income` были распределены на 5 уровней: \n",
    "- 0–30000 — `'E'`;\n",
    "- 30001–50000 — `'D'`;\n",
    "- 50001–200000 — `'C'`;\n",
    "- 200001–1000000 — `'B'`;\n",
    "- 1000001 и выше — `'A'`.  \n",
    "\n",
    "Данные категории 'purpose' были распределены на 4 категории: \n",
    "- `'операции с автомобилем'`,\n",
    "- `'операции с недвижимостью'`,\n",
    "- `'проведение свадьбы'`,\n",
    "- `'получение образования'`.\n",
    "\n",
    "<b>Предварительный анализ данных с целью выявления зависимости между возвратом кредита в срок и другими данными клиентов.</b> \n",
    "\n",
    "![image](attachment:image.png) ![image-2.png](attachment:image-2.png) ![image-3.png](attachment:image-3.png) ![image-5.png](attachment:image-5.png)\n",
    "\n",
    "\n",
    "Выводы о категориях с самыми низким показателями невозврата:\n",
    "    \n",
    "- клиенты без детей\n",
    "- клиенты замужем/женаты\n",
    "- клиенты с доходом выше среднего\n",
    "- клиенты, берущие кредит на операции с недвижимостью\n",
    "\n"
   ]
  }
 ],
 "metadata": {
  "ExecuteTimeLog": [
   {
    "duration": 436,
    "start_time": "2023-11-18T13:52:31.944Z"
   },
   {
    "duration": 23,
    "start_time": "2023-11-18T13:52:45.148Z"
   },
   {
    "duration": 15,
    "start_time": "2023-11-18T13:52:47.959Z"
   },
   {
    "duration": 10,
    "start_time": "2023-11-18T13:52:49.912Z"
   },
   {
    "duration": 34,
    "start_time": "2023-11-18T13:52:59.520Z"
   },
   {
    "duration": 6,
    "start_time": "2023-11-18T15:07:30.458Z"
   },
   {
    "duration": 15,
    "start_time": "2023-11-18T15:33:51.629Z"
   },
   {
    "duration": 122,
    "start_time": "2023-11-18T15:38:56.701Z"
   },
   {
    "duration": 93,
    "start_time": "2023-11-18T15:39:33.358Z"
   },
   {
    "duration": 74,
    "start_time": "2023-11-18T15:39:55.325Z"
   },
   {
    "duration": 10,
    "start_time": "2023-11-18T15:40:02.905Z"
   },
   {
    "duration": 935,
    "start_time": "2023-11-18T15:40:04.317Z"
   },
   {
    "duration": 4,
    "start_time": "2023-11-18T15:40:39.758Z"
   },
   {
    "duration": 4,
    "start_time": "2023-11-18T15:40:42.237Z"
   },
   {
    "duration": 5,
    "start_time": "2023-11-18T15:41:15.404Z"
   },
   {
    "duration": 1004,
    "start_time": "2023-11-18T15:41:23.438Z"
   },
   {
    "duration": 0,
    "start_time": "2023-11-18T15:42:18.049Z"
   },
   {
    "duration": 944,
    "start_time": "2023-11-18T15:42:19.773Z"
   },
   {
    "duration": 6,
    "start_time": "2023-11-18T15:42:33.310Z"
   },
   {
    "duration": 11,
    "start_time": "2023-11-18T15:42:47.838Z"
   },
   {
    "duration": 6,
    "start_time": "2023-11-18T15:43:14.093Z"
   },
   {
    "duration": 1008,
    "start_time": "2023-11-18T15:43:25.271Z"
   },
   {
    "duration": 6,
    "start_time": "2023-11-18T15:43:34.215Z"
   },
   {
    "duration": 7,
    "start_time": "2023-11-18T15:46:19.768Z"
   },
   {
    "duration": 13,
    "start_time": "2023-11-18T15:46:28.080Z"
   },
   {
    "duration": 8,
    "start_time": "2023-11-18T15:46:56.640Z"
   },
   {
    "duration": 5,
    "start_time": "2023-11-18T15:47:28.624Z"
   },
   {
    "duration": 923,
    "start_time": "2023-11-18T15:47:34.336Z"
   },
   {
    "duration": 993,
    "start_time": "2023-11-18T15:47:45.712Z"
   },
   {
    "duration": 6,
    "start_time": "2023-11-18T15:47:56.775Z"
   },
   {
    "duration": 12,
    "start_time": "2023-11-18T15:48:43.033Z"
   },
   {
    "duration": 15,
    "start_time": "2023-11-18T15:49:11.184Z"
   },
   {
    "duration": 15,
    "start_time": "2023-11-18T15:49:35.307Z"
   },
   {
    "duration": 75,
    "start_time": "2023-11-18T15:49:55.505Z"
   },
   {
    "duration": 15,
    "start_time": "2023-11-18T15:49:59.058Z"
   },
   {
    "duration": 14,
    "start_time": "2023-11-18T15:50:02.106Z"
   },
   {
    "duration": 15,
    "start_time": "2023-11-18T15:50:09.985Z"
   },
   {
    "duration": 10,
    "start_time": "2023-11-18T15:50:12.433Z"
   },
   {
    "duration": 36,
    "start_time": "2023-11-18T15:50:15.097Z"
   },
   {
    "duration": 4,
    "start_time": "2023-11-18T15:50:17.801Z"
   },
   {
    "duration": 8,
    "start_time": "2023-11-18T15:50:21.004Z"
   },
   {
    "duration": 4,
    "start_time": "2023-11-18T15:50:35.393Z"
   },
   {
    "duration": 6,
    "start_time": "2023-11-18T15:50:38.537Z"
   },
   {
    "duration": 4,
    "start_time": "2023-11-18T15:50:42.171Z"
   },
   {
    "duration": 35,
    "start_time": "2023-11-18T15:50:44.131Z"
   },
   {
    "duration": 11,
    "start_time": "2023-11-18T15:50:46.346Z"
   },
   {
    "duration": 4,
    "start_time": "2023-11-18T15:50:49.137Z"
   },
   {
    "duration": 19,
    "start_time": "2023-11-18T15:50:51.217Z"
   },
   {
    "duration": 16,
    "start_time": "2023-11-18T15:50:57.738Z"
   },
   {
    "duration": 495,
    "start_time": "2023-11-18T16:01:49.285Z"
   },
   {
    "duration": 23,
    "start_time": "2023-11-18T16:01:52.256Z"
   },
   {
    "duration": 16,
    "start_time": "2023-11-18T16:01:56.289Z"
   },
   {
    "duration": 10,
    "start_time": "2023-11-18T16:02:02.229Z"
   },
   {
    "duration": 39,
    "start_time": "2023-11-18T16:02:07.965Z"
   },
   {
    "duration": 6,
    "start_time": "2023-11-18T16:02:13.037Z"
   },
   {
    "duration": 9,
    "start_time": "2023-11-18T16:02:15.941Z"
   },
   {
    "duration": 5,
    "start_time": "2023-11-18T16:02:33.853Z"
   },
   {
    "duration": 7,
    "start_time": "2023-11-18T16:02:37.062Z"
   },
   {
    "duration": 5,
    "start_time": "2023-11-18T16:02:40.781Z"
   },
   {
    "duration": 35,
    "start_time": "2023-11-18T16:02:43.365Z"
   },
   {
    "duration": 12,
    "start_time": "2023-11-18T16:02:45.509Z"
   },
   {
    "duration": 18,
    "start_time": "2023-11-18T16:03:00.558Z"
   },
   {
    "duration": 16,
    "start_time": "2023-11-18T16:05:11.431Z"
   },
   {
    "duration": 15,
    "start_time": "2023-11-18T16:06:24.591Z"
   },
   {
    "duration": 78,
    "start_time": "2023-11-18T16:06:28.246Z"
   },
   {
    "duration": 16,
    "start_time": "2023-11-18T16:06:30.215Z"
   },
   {
    "duration": 16,
    "start_time": "2023-11-18T16:06:32.406Z"
   },
   {
    "duration": 10,
    "start_time": "2023-11-18T16:06:42.623Z"
   },
   {
    "duration": 14,
    "start_time": "2023-11-18T16:06:45.527Z"
   },
   {
    "duration": 18,
    "start_time": "2023-11-18T16:07:18.151Z"
   },
   {
    "duration": 36,
    "start_time": "2023-11-18T16:07:26.056Z"
   },
   {
    "duration": 15,
    "start_time": "2023-11-18T16:07:28.032Z"
   },
   {
    "duration": 4,
    "start_time": "2023-11-18T16:09:19.112Z"
   },
   {
    "duration": 7,
    "start_time": "2023-11-18T16:09:21.503Z"
   },
   {
    "duration": 5,
    "start_time": "2023-11-18T16:09:24.824Z"
   },
   {
    "duration": 7,
    "start_time": "2023-11-18T16:09:26.880Z"
   },
   {
    "duration": 4,
    "start_time": "2023-11-18T16:09:29.544Z"
   },
   {
    "duration": 37,
    "start_time": "2023-11-18T16:09:31.208Z"
   },
   {
    "duration": 16,
    "start_time": "2023-11-18T16:09:37.047Z"
   },
   {
    "duration": 17,
    "start_time": "2023-11-18T16:09:57.929Z"
   },
   {
    "duration": 73,
    "start_time": "2023-11-18T16:10:04.928Z"
   },
   {
    "duration": 16,
    "start_time": "2023-11-18T16:10:06.779Z"
   },
   {
    "duration": 17,
    "start_time": "2023-11-18T16:10:10.047Z"
   },
   {
    "duration": 11,
    "start_time": "2023-11-18T16:10:12.936Z"
   },
   {
    "duration": 36,
    "start_time": "2023-11-18T16:10:15.112Z"
   },
   {
    "duration": 15,
    "start_time": "2023-11-18T16:10:16.672Z"
   },
   {
    "duration": 3,
    "start_time": "2023-11-18T16:10:21.856Z"
   },
   {
    "duration": 8,
    "start_time": "2023-11-18T16:10:23.944Z"
   },
   {
    "duration": 5,
    "start_time": "2023-11-18T16:10:26.192Z"
   },
   {
    "duration": 5,
    "start_time": "2023-11-18T16:10:27.793Z"
   },
   {
    "duration": 15,
    "start_time": "2023-11-18T16:10:29.432Z"
   },
   {
    "duration": 4,
    "start_time": "2023-11-18T16:11:09.448Z"
   },
   {
    "duration": 35,
    "start_time": "2023-11-18T16:11:21.777Z"
   },
   {
    "duration": 15,
    "start_time": "2023-11-18T16:11:24.105Z"
   },
   {
    "duration": 11,
    "start_time": "2023-11-18T16:11:45.345Z"
   },
   {
    "duration": 14,
    "start_time": "2023-11-18T16:11:48.594Z"
   },
   {
    "duration": 4,
    "start_time": "2023-11-18T16:11:56.842Z"
   },
   {
    "duration": 12,
    "start_time": "2023-11-18T16:11:59.673Z"
   },
   {
    "duration": 15,
    "start_time": "2023-11-18T16:12:12.154Z"
   },
   {
    "duration": 18,
    "start_time": "2023-11-18T16:12:22.353Z"
   },
   {
    "duration": 16,
    "start_time": "2023-11-18T16:13:21.330Z"
   },
   {
    "duration": 18,
    "start_time": "2023-11-18T16:13:25.474Z"
   },
   {
    "duration": 15,
    "start_time": "2023-11-18T16:13:30.956Z"
   },
   {
    "duration": 3,
    "start_time": "2023-11-18T16:14:21.970Z"
   },
   {
    "duration": 10,
    "start_time": "2023-11-18T16:14:25.026Z"
   },
   {
    "duration": 16,
    "start_time": "2023-11-18T16:14:28.650Z"
   },
   {
    "duration": 6,
    "start_time": "2023-11-18T16:14:35.580Z"
   },
   {
    "duration": 4,
    "start_time": "2023-11-18T16:14:43.810Z"
   },
   {
    "duration": 9,
    "start_time": "2023-11-18T16:14:45.570Z"
   },
   {
    "duration": 17,
    "start_time": "2023-11-18T16:14:52.082Z"
   },
   {
    "duration": 18,
    "start_time": "2023-11-18T16:15:34.450Z"
   },
   {
    "duration": 5,
    "start_time": "2023-11-18T16:15:39.066Z"
   },
   {
    "duration": 10,
    "start_time": "2023-11-18T16:15:47.347Z"
   },
   {
    "duration": 5,
    "start_time": "2023-11-18T16:15:49.339Z"
   },
   {
    "duration": 7,
    "start_time": "2023-11-18T16:15:53.708Z"
   },
   {
    "duration": 8,
    "start_time": "2023-11-18T16:16:40.557Z"
   },
   {
    "duration": 9,
    "start_time": "2023-11-18T16:16:46.083Z"
   },
   {
    "duration": 10,
    "start_time": "2023-11-18T16:16:54.244Z"
   },
   {
    "duration": 9,
    "start_time": "2023-11-18T16:17:37.213Z"
   },
   {
    "duration": 6,
    "start_time": "2023-11-18T16:17:51.076Z"
   },
   {
    "duration": 9,
    "start_time": "2023-11-18T16:17:55.524Z"
   },
   {
    "duration": 11,
    "start_time": "2023-11-18T16:20:19.053Z"
   },
   {
    "duration": 6,
    "start_time": "2023-11-18T16:27:53.153Z"
   },
   {
    "duration": 10,
    "start_time": "2023-11-18T16:30:11.641Z"
   },
   {
    "duration": 7,
    "start_time": "2023-11-18T16:30:13.135Z"
   },
   {
    "duration": 9,
    "start_time": "2023-11-18T16:31:00.449Z"
   },
   {
    "duration": 6,
    "start_time": "2023-11-18T16:31:01.840Z"
   },
   {
    "duration": 10,
    "start_time": "2023-11-18T16:31:03.961Z"
   },
   {
    "duration": 68,
    "start_time": "2023-11-18T16:36:59.275Z"
   },
   {
    "duration": 12,
    "start_time": "2023-11-18T16:37:11.859Z"
   },
   {
    "duration": 11,
    "start_time": "2023-11-18T16:38:26.354Z"
   },
   {
    "duration": 12,
    "start_time": "2023-11-18T16:39:22.427Z"
   },
   {
    "duration": 16,
    "start_time": "2023-11-18T16:39:37.179Z"
   },
   {
    "duration": 14,
    "start_time": "2023-11-18T16:39:57.800Z"
   },
   {
    "duration": 6,
    "start_time": "2023-11-18T16:42:27.862Z"
   },
   {
    "duration": 11,
    "start_time": "2023-11-18T16:42:33.989Z"
   },
   {
    "duration": 16,
    "start_time": "2023-11-18T17:03:01.180Z"
   },
   {
    "duration": 16,
    "start_time": "2023-11-18T17:04:03.043Z"
   },
   {
    "duration": 5,
    "start_time": "2023-11-18T17:05:18.122Z"
   },
   {
    "duration": 14,
    "start_time": "2023-11-18T17:17:08.347Z"
   },
   {
    "duration": 7,
    "start_time": "2023-11-18T17:17:42.082Z"
   },
   {
    "duration": 16,
    "start_time": "2023-11-18T17:18:39.253Z"
   },
   {
    "duration": 7,
    "start_time": "2023-11-18T17:18:50.659Z"
   },
   {
    "duration": 12,
    "start_time": "2023-11-18T17:19:08.699Z"
   },
   {
    "duration": 15,
    "start_time": "2023-11-18T17:26:15.742Z"
   },
   {
    "duration": 11,
    "start_time": "2023-11-18T17:27:37.321Z"
   },
   {
    "duration": 7,
    "start_time": "2023-11-18T17:28:00.249Z"
   },
   {
    "duration": 11,
    "start_time": "2023-11-18T17:28:12.356Z"
   },
   {
    "duration": 7,
    "start_time": "2023-11-18T17:28:13.814Z"
   },
   {
    "duration": 11,
    "start_time": "2023-11-18T17:29:19.632Z"
   },
   {
    "duration": 7,
    "start_time": "2023-11-18T17:29:27.088Z"
   },
   {
    "duration": 10,
    "start_time": "2023-11-18T17:29:28.432Z"
   },
   {
    "duration": 7,
    "start_time": "2023-11-18T17:29:43.903Z"
   },
   {
    "duration": 13,
    "start_time": "2023-11-18T17:29:45.384Z"
   },
   {
    "duration": 8,
    "start_time": "2023-11-18T17:29:56.470Z"
   },
   {
    "duration": 11,
    "start_time": "2023-11-18T17:29:57.880Z"
   },
   {
    "duration": 12,
    "start_time": "2023-11-18T17:30:10.458Z"
   },
   {
    "duration": 11,
    "start_time": "2023-11-18T17:30:11.999Z"
   },
   {
    "duration": 7,
    "start_time": "2023-11-18T17:30:18.271Z"
   },
   {
    "duration": 12,
    "start_time": "2023-11-18T17:30:19.568Z"
   },
   {
    "duration": 7,
    "start_time": "2023-11-18T17:30:29.182Z"
   },
   {
    "duration": 12,
    "start_time": "2023-11-18T17:30:30.638Z"
   },
   {
    "duration": 14,
    "start_time": "2023-11-18T17:30:36.823Z"
   },
   {
    "duration": 13,
    "start_time": "2023-11-18T17:30:38.423Z"
   },
   {
    "duration": 7,
    "start_time": "2023-11-18T17:30:44.383Z"
   },
   {
    "duration": 10,
    "start_time": "2023-11-18T17:30:45.840Z"
   },
   {
    "duration": 6,
    "start_time": "2023-11-18T17:30:53.207Z"
   },
   {
    "duration": 11,
    "start_time": "2023-11-18T17:30:54.999Z"
   },
   {
    "duration": 6,
    "start_time": "2023-11-18T17:31:42.802Z"
   },
   {
    "duration": 11,
    "start_time": "2023-11-18T17:31:44.658Z"
   },
   {
    "duration": 6,
    "start_time": "2023-11-18T17:32:13.946Z"
   },
   {
    "duration": 11,
    "start_time": "2023-11-18T17:32:16.457Z"
   },
   {
    "duration": 16,
    "start_time": "2023-11-18T17:37:13.586Z"
   },
   {
    "duration": 12,
    "start_time": "2023-11-18T17:38:29.532Z"
   },
   {
    "duration": 12,
    "start_time": "2023-11-18T17:39:10.854Z"
   },
   {
    "duration": 17,
    "start_time": "2023-11-18T17:39:11.988Z"
   },
   {
    "duration": 8,
    "start_time": "2023-11-18T17:39:37.371Z"
   },
   {
    "duration": 12,
    "start_time": "2023-11-18T17:39:38.949Z"
   },
   {
    "duration": 5,
    "start_time": "2023-11-18T17:40:39.403Z"
   },
   {
    "duration": 14,
    "start_time": "2023-11-18T17:40:41.492Z"
   },
   {
    "duration": 5,
    "start_time": "2023-11-18T17:40:52.627Z"
   },
   {
    "duration": 12,
    "start_time": "2023-11-18T17:40:54.211Z"
   },
   {
    "duration": 7,
    "start_time": "2023-11-18T17:40:56.100Z"
   },
   {
    "duration": 21,
    "start_time": "2023-11-18T17:40:57.180Z"
   },
   {
    "duration": 12,
    "start_time": "2023-11-18T17:40:58.940Z"
   },
   {
    "duration": 7,
    "start_time": "2023-11-18T17:40:59.995Z"
   },
   {
    "duration": 12,
    "start_time": "2023-11-18T17:41:01.596Z"
   },
   {
    "duration": 13,
    "start_time": "2023-11-18T17:41:03.187Z"
   },
   {
    "duration": 10,
    "start_time": "2023-11-18T17:41:04.716Z"
   },
   {
    "duration": 6,
    "start_time": "2023-11-18T17:41:06.468Z"
   },
   {
    "duration": 11,
    "start_time": "2023-11-18T17:41:08.036Z"
   },
   {
    "duration": 15,
    "start_time": "2023-11-18T17:41:09.540Z"
   },
   {
    "duration": 12,
    "start_time": "2023-11-18T17:41:10.949Z"
   },
   {
    "duration": 10,
    "start_time": "2023-11-18T17:41:12.347Z"
   },
   {
    "duration": 11,
    "start_time": "2023-11-18T17:41:13.941Z"
   },
   {
    "duration": 11,
    "start_time": "2023-11-18T17:43:34.013Z"
   },
   {
    "duration": 494,
    "start_time": "2023-11-18T23:14:44.158Z"
   },
   {
    "duration": 23,
    "start_time": "2023-11-18T23:14:44.654Z"
   },
   {
    "duration": 15,
    "start_time": "2023-11-18T23:14:44.678Z"
   },
   {
    "duration": 10,
    "start_time": "2023-11-18T23:14:44.695Z"
   },
   {
    "duration": 36,
    "start_time": "2023-11-18T23:14:44.707Z"
   },
   {
    "duration": 3,
    "start_time": "2023-11-18T23:14:44.745Z"
   },
   {
    "duration": 8,
    "start_time": "2023-11-18T23:14:44.750Z"
   },
   {
    "duration": 4,
    "start_time": "2023-11-18T23:14:44.759Z"
   },
   {
    "duration": 8,
    "start_time": "2023-11-18T23:14:44.765Z"
   },
   {
    "duration": 5,
    "start_time": "2023-11-18T23:14:44.775Z"
   },
   {
    "duration": 35,
    "start_time": "2023-11-18T23:14:44.816Z"
   },
   {
    "duration": 11,
    "start_time": "2023-11-18T23:14:44.853Z"
   },
   {
    "duration": 4,
    "start_time": "2023-11-18T23:14:44.866Z"
   },
   {
    "duration": 17,
    "start_time": "2023-11-18T23:14:44.872Z"
   },
   {
    "duration": 39,
    "start_time": "2023-11-18T23:14:44.891Z"
   },
   {
    "duration": 19,
    "start_time": "2023-11-18T23:14:44.931Z"
   },
   {
    "duration": 3,
    "start_time": "2023-11-18T23:14:44.952Z"
   },
   {
    "duration": 13,
    "start_time": "2023-11-18T23:14:44.957Z"
   },
   {
    "duration": 8,
    "start_time": "2023-11-18T23:14:44.971Z"
   },
   {
    "duration": 4,
    "start_time": "2023-11-18T23:14:44.981Z"
   },
   {
    "duration": 10,
    "start_time": "2023-11-18T23:14:45.014Z"
   },
   {
    "duration": 39,
    "start_time": "2023-11-18T23:14:45.026Z"
   },
   {
    "duration": 22,
    "start_time": "2023-11-18T23:14:45.066Z"
   },
   {
    "duration": 18,
    "start_time": "2023-11-18T23:14:45.090Z"
   },
   {
    "duration": 6,
    "start_time": "2023-11-18T23:14:45.110Z"
   },
   {
    "duration": 16,
    "start_time": "2023-11-18T23:14:45.117Z"
   },
   {
    "duration": 12,
    "start_time": "2023-11-18T23:14:45.134Z"
   },
   {
    "duration": 7,
    "start_time": "2023-11-18T23:14:45.150Z"
   },
   {
    "duration": 12,
    "start_time": "2023-11-18T23:14:45.159Z"
   },
   {
    "duration": 50,
    "start_time": "2023-11-18T23:14:45.173Z"
   },
   {
    "duration": 11,
    "start_time": "2023-11-18T23:14:45.225Z"
   },
   {
    "duration": 7,
    "start_time": "2023-11-18T23:14:45.238Z"
   },
   {
    "duration": 31,
    "start_time": "2023-11-18T23:14:45.246Z"
   },
   {
    "duration": 17,
    "start_time": "2023-11-18T23:14:45.279Z"
   },
   {
    "duration": 23,
    "start_time": "2023-11-18T23:14:45.297Z"
   },
   {
    "duration": 7,
    "start_time": "2023-11-18T23:14:45.322Z"
   },
   {
    "duration": 12,
    "start_time": "2023-11-18T23:14:45.330Z"
   },
   {
    "duration": 485,
    "start_time": "2023-11-18T23:16:54.206Z"
   },
   {
    "duration": 25,
    "start_time": "2023-11-18T23:16:54.694Z"
   },
   {
    "duration": 16,
    "start_time": "2023-11-18T23:16:54.721Z"
   },
   {
    "duration": 11,
    "start_time": "2023-11-18T23:16:54.739Z"
   },
   {
    "duration": 37,
    "start_time": "2023-11-18T23:16:54.752Z"
   },
   {
    "duration": 3,
    "start_time": "2023-11-18T23:16:54.791Z"
   },
   {
    "duration": 26,
    "start_time": "2023-11-18T23:16:54.795Z"
   },
   {
    "duration": 8,
    "start_time": "2023-11-18T23:16:54.823Z"
   },
   {
    "duration": 24,
    "start_time": "2023-11-18T23:16:54.832Z"
   },
   {
    "duration": 5,
    "start_time": "2023-11-18T23:16:54.858Z"
   },
   {
    "duration": 50,
    "start_time": "2023-11-18T23:16:54.865Z"
   },
   {
    "duration": 11,
    "start_time": "2023-11-18T23:16:54.916Z"
   },
   {
    "duration": 4,
    "start_time": "2023-11-18T23:16:54.928Z"
   },
   {
    "duration": 19,
    "start_time": "2023-11-18T23:16:54.934Z"
   },
   {
    "duration": 21,
    "start_time": "2023-11-18T23:16:54.955Z"
   },
   {
    "duration": 47,
    "start_time": "2023-11-18T23:16:54.977Z"
   },
   {
    "duration": 3,
    "start_time": "2023-11-18T23:16:55.026Z"
   },
   {
    "duration": 18,
    "start_time": "2023-11-18T23:16:55.030Z"
   },
   {
    "duration": 12,
    "start_time": "2023-11-18T23:16:55.050Z"
   },
   {
    "duration": 10,
    "start_time": "2023-11-18T23:16:55.064Z"
   },
   {
    "duration": 15,
    "start_time": "2023-11-18T23:16:55.075Z"
   },
   {
    "duration": 14,
    "start_time": "2023-11-18T23:16:55.092Z"
   },
   {
    "duration": 6,
    "start_time": "2023-11-18T23:16:55.115Z"
   },
   {
    "duration": 20,
    "start_time": "2023-11-18T23:16:55.122Z"
   },
   {
    "duration": 81,
    "start_time": "2023-11-18T23:16:55.143Z"
   },
   {
    "duration": 0,
    "start_time": "2023-11-18T23:16:55.226Z"
   },
   {
    "duration": 0,
    "start_time": "2023-11-18T23:16:55.228Z"
   },
   {
    "duration": 0,
    "start_time": "2023-11-18T23:16:55.229Z"
   },
   {
    "duration": 0,
    "start_time": "2023-11-18T23:16:55.231Z"
   },
   {
    "duration": 0,
    "start_time": "2023-11-18T23:16:55.232Z"
   },
   {
    "duration": 0,
    "start_time": "2023-11-18T23:16:55.233Z"
   },
   {
    "duration": 0,
    "start_time": "2023-11-18T23:16:55.234Z"
   },
   {
    "duration": 0,
    "start_time": "2023-11-18T23:16:55.235Z"
   },
   {
    "duration": 0,
    "start_time": "2023-11-18T23:16:55.237Z"
   },
   {
    "duration": 0,
    "start_time": "2023-11-18T23:16:55.238Z"
   },
   {
    "duration": 0,
    "start_time": "2023-11-18T23:16:55.239Z"
   },
   {
    "duration": 0,
    "start_time": "2023-11-18T23:16:55.240Z"
   },
   {
    "duration": 0,
    "start_time": "2023-11-18T23:16:55.242Z"
   },
   {
    "duration": 467,
    "start_time": "2023-11-18T23:17:03.538Z"
   },
   {
    "duration": 37,
    "start_time": "2023-11-18T23:17:04.007Z"
   },
   {
    "duration": 26,
    "start_time": "2023-11-18T23:17:04.047Z"
   },
   {
    "duration": 12,
    "start_time": "2023-11-18T23:17:04.075Z"
   },
   {
    "duration": 57,
    "start_time": "2023-11-18T23:17:04.090Z"
   },
   {
    "duration": 4,
    "start_time": "2023-11-18T23:17:04.148Z"
   },
   {
    "duration": 10,
    "start_time": "2023-11-18T23:17:04.153Z"
   },
   {
    "duration": 6,
    "start_time": "2023-11-18T23:17:04.164Z"
   },
   {
    "duration": 14,
    "start_time": "2023-11-18T23:17:04.172Z"
   },
   {
    "duration": 4,
    "start_time": "2023-11-18T23:17:04.187Z"
   },
   {
    "duration": 37,
    "start_time": "2023-11-18T23:17:04.215Z"
   },
   {
    "duration": 11,
    "start_time": "2023-11-18T23:17:04.253Z"
   },
   {
    "duration": 4,
    "start_time": "2023-11-18T23:17:04.266Z"
   },
   {
    "duration": 44,
    "start_time": "2023-11-18T23:17:04.273Z"
   },
   {
    "duration": 21,
    "start_time": "2023-11-18T23:17:04.318Z"
   },
   {
    "duration": 30,
    "start_time": "2023-11-18T23:17:04.341Z"
   },
   {
    "duration": 4,
    "start_time": "2023-11-18T23:17:04.373Z"
   },
   {
    "duration": 40,
    "start_time": "2023-11-18T23:17:04.379Z"
   },
   {
    "duration": 6,
    "start_time": "2023-11-18T23:17:04.421Z"
   },
   {
    "duration": 25,
    "start_time": "2023-11-18T23:17:04.429Z"
   },
   {
    "duration": 47,
    "start_time": "2023-11-18T23:17:04.456Z"
   },
   {
    "duration": 43,
    "start_time": "2023-11-18T23:17:04.504Z"
   },
   {
    "duration": 38,
    "start_time": "2023-11-18T23:17:04.549Z"
   },
   {
    "duration": 39,
    "start_time": "2023-11-18T23:17:04.589Z"
   },
   {
    "duration": 19,
    "start_time": "2023-11-18T23:17:04.629Z"
   },
   {
    "duration": 38,
    "start_time": "2023-11-18T23:17:04.649Z"
   },
   {
    "duration": 30,
    "start_time": "2023-11-18T23:17:04.688Z"
   },
   {
    "duration": 16,
    "start_time": "2023-11-18T23:17:04.720Z"
   },
   {
    "duration": 15,
    "start_time": "2023-11-18T23:17:04.738Z"
   },
   {
    "duration": 14,
    "start_time": "2023-11-18T23:17:04.755Z"
   },
   {
    "duration": 11,
    "start_time": "2023-11-18T23:17:04.770Z"
   },
   {
    "duration": 32,
    "start_time": "2023-11-18T23:17:04.783Z"
   },
   {
    "duration": 27,
    "start_time": "2023-11-18T23:17:04.816Z"
   },
   {
    "duration": 27,
    "start_time": "2023-11-18T23:17:04.845Z"
   },
   {
    "duration": 11,
    "start_time": "2023-11-18T23:17:04.874Z"
   },
   {
    "duration": 10,
    "start_time": "2023-11-18T23:17:04.887Z"
   },
   {
    "duration": 40,
    "start_time": "2023-11-18T23:17:04.899Z"
   },
   {
    "duration": 13,
    "start_time": "2023-11-18T23:17:23.030Z"
   },
   {
    "duration": 14,
    "start_time": "2023-11-18T23:17:32.185Z"
   },
   {
    "duration": 553,
    "start_time": "2023-11-22T16:46:40.513Z"
   },
   {
    "duration": 21,
    "start_time": "2023-11-22T16:46:41.068Z"
   },
   {
    "duration": 30,
    "start_time": "2023-11-22T16:46:41.091Z"
   },
   {
    "duration": 45,
    "start_time": "2023-11-22T16:46:41.123Z"
   },
   {
    "duration": 40,
    "start_time": "2023-11-22T16:46:41.169Z"
   },
   {
    "duration": 3,
    "start_time": "2023-11-22T16:46:41.211Z"
   },
   {
    "duration": 20,
    "start_time": "2023-11-22T16:46:41.216Z"
   },
   {
    "duration": 14,
    "start_time": "2023-11-22T16:46:41.238Z"
   },
   {
    "duration": 18,
    "start_time": "2023-11-22T16:46:41.254Z"
   },
   {
    "duration": 5,
    "start_time": "2023-11-22T16:46:41.275Z"
   },
   {
    "duration": 47,
    "start_time": "2023-11-22T16:46:41.281Z"
   },
   {
    "duration": 14,
    "start_time": "2023-11-22T16:46:41.329Z"
   },
   {
    "duration": 12,
    "start_time": "2023-11-22T16:46:41.344Z"
   },
   {
    "duration": 15,
    "start_time": "2023-11-22T16:46:41.358Z"
   },
   {
    "duration": 44,
    "start_time": "2023-11-22T16:46:41.375Z"
   },
   {
    "duration": 22,
    "start_time": "2023-11-22T16:46:41.421Z"
   },
   {
    "duration": 9,
    "start_time": "2023-11-22T16:46:41.445Z"
   },
   {
    "duration": 22,
    "start_time": "2023-11-22T16:46:41.455Z"
   },
   {
    "duration": 6,
    "start_time": "2023-11-22T16:46:41.479Z"
   },
   {
    "duration": 7,
    "start_time": "2023-11-22T16:46:41.487Z"
   },
   {
    "duration": 26,
    "start_time": "2023-11-22T16:46:41.495Z"
   },
   {
    "duration": 13,
    "start_time": "2023-11-22T16:46:41.523Z"
   },
   {
    "duration": 33,
    "start_time": "2023-11-22T16:46:41.538Z"
   },
   {
    "duration": 15,
    "start_time": "2023-11-22T16:46:48.707Z"
   },
   {
    "duration": 13,
    "start_time": "2023-11-22T16:46:56.265Z"
   },
   {
    "duration": 91,
    "start_time": "2023-11-22T16:48:16.634Z"
   },
   {
    "duration": 5,
    "start_time": "2023-11-22T17:18:27.565Z"
   },
   {
    "duration": 64,
    "start_time": "2023-11-22T17:21:17.556Z"
   },
   {
    "duration": 11,
    "start_time": "2023-11-22T17:21:27.413Z"
   },
   {
    "duration": 9,
    "start_time": "2023-11-22T17:23:19.892Z"
   },
   {
    "duration": 22,
    "start_time": "2023-11-22T17:23:30.500Z"
   },
   {
    "duration": 11,
    "start_time": "2023-11-22T17:25:46.535Z"
   },
   {
    "duration": 15,
    "start_time": "2023-11-22T17:25:55.388Z"
   },
   {
    "duration": 16,
    "start_time": "2023-11-22T17:26:17.581Z"
   },
   {
    "duration": 11,
    "start_time": "2023-11-22T17:26:24.959Z"
   },
   {
    "duration": 4,
    "start_time": "2023-11-22T17:26:30.446Z"
   },
   {
    "duration": 11,
    "start_time": "2023-11-22T17:26:33.343Z"
   },
   {
    "duration": 15,
    "start_time": "2023-11-22T17:26:36.262Z"
   },
   {
    "duration": 14,
    "start_time": "2023-11-22T17:26:48.594Z"
   },
   {
    "duration": 14,
    "start_time": "2023-11-22T17:31:16.604Z"
   },
   {
    "duration": 92,
    "start_time": "2023-11-22T17:38:11.642Z"
   },
   {
    "duration": 8,
    "start_time": "2023-11-22T17:44:59.531Z"
   },
   {
    "duration": 8,
    "start_time": "2023-11-22T17:45:01.635Z"
   },
   {
    "duration": 16,
    "start_time": "2023-11-22T17:45:47.612Z"
   },
   {
    "duration": 9,
    "start_time": "2023-11-22T17:46:26.387Z"
   },
   {
    "duration": 14,
    "start_time": "2023-11-22T17:46:30.532Z"
   },
   {
    "duration": 94,
    "start_time": "2023-11-22T17:55:24.639Z"
   },
   {
    "duration": 93,
    "start_time": "2023-11-22T17:57:34.736Z"
   },
   {
    "duration": 87,
    "start_time": "2023-11-22T17:58:41.496Z"
   },
   {
    "duration": 14,
    "start_time": "2023-11-22T17:59:28.951Z"
   },
   {
    "duration": 14,
    "start_time": "2023-11-22T17:59:58.703Z"
   },
   {
    "duration": 1081,
    "start_time": "2023-11-22T18:30:12.873Z"
   },
   {
    "duration": 975,
    "start_time": "2023-11-22T18:31:29.349Z"
   },
   {
    "duration": 1024,
    "start_time": "2023-11-22T18:32:52.398Z"
   },
   {
    "duration": 944,
    "start_time": "2023-11-22T18:33:04.662Z"
   },
   {
    "duration": 118,
    "start_time": "2023-11-22T18:33:09.506Z"
   },
   {
    "duration": 930,
    "start_time": "2023-11-22T18:33:13.791Z"
   },
   {
    "duration": 1000,
    "start_time": "2023-11-22T18:34:07.926Z"
   },
   {
    "duration": 196,
    "start_time": "2023-11-22T18:35:22.839Z"
   },
   {
    "duration": 121,
    "start_time": "2023-11-22T18:35:31.631Z"
   },
   {
    "duration": 126,
    "start_time": "2023-11-22T18:35:36.553Z"
   },
   {
    "duration": 118,
    "start_time": "2023-11-22T18:35:41.591Z"
   },
   {
    "duration": 123,
    "start_time": "2023-11-22T18:35:45.735Z"
   },
   {
    "duration": 151,
    "start_time": "2023-11-22T18:35:58.199Z"
   },
   {
    "duration": 134,
    "start_time": "2023-11-22T18:37:28.047Z"
   },
   {
    "duration": 130,
    "start_time": "2023-11-22T18:37:36.419Z"
   },
   {
    "duration": 125,
    "start_time": "2023-11-22T18:38:24.552Z"
   },
   {
    "duration": 125,
    "start_time": "2023-11-22T18:38:36.386Z"
   },
   {
    "duration": 4,
    "start_time": "2023-11-22T18:38:48.642Z"
   },
   {
    "duration": 121,
    "start_time": "2023-11-22T18:39:14.344Z"
   },
   {
    "duration": 136,
    "start_time": "2023-11-22T18:39:22.720Z"
   },
   {
    "duration": 116,
    "start_time": "2023-11-22T18:39:38.829Z"
   },
   {
    "duration": 198,
    "start_time": "2023-11-22T18:39:45.905Z"
   },
   {
    "duration": 114,
    "start_time": "2023-11-22T18:39:54.392Z"
   },
   {
    "duration": 120,
    "start_time": "2023-11-22T18:40:47.024Z"
   },
   {
    "duration": 138,
    "start_time": "2023-11-22T18:41:10.121Z"
   },
   {
    "duration": 137,
    "start_time": "2023-11-22T18:41:17.449Z"
   },
   {
    "duration": 138,
    "start_time": "2023-11-22T18:41:24.217Z"
   },
   {
    "duration": 136,
    "start_time": "2023-11-22T18:41:33.784Z"
   },
   {
    "duration": 132,
    "start_time": "2023-11-22T18:43:44.874Z"
   },
   {
    "duration": 142,
    "start_time": "2023-11-22T18:43:58.450Z"
   },
   {
    "duration": 165,
    "start_time": "2023-11-22T18:44:33.874Z"
   },
   {
    "duration": 145,
    "start_time": "2023-11-22T18:47:11.435Z"
   },
   {
    "duration": 192,
    "start_time": "2023-11-22T18:47:22.699Z"
   },
   {
    "duration": 243,
    "start_time": "2023-11-22T18:47:40.840Z"
   },
   {
    "duration": 175,
    "start_time": "2023-11-22T18:47:54.204Z"
   },
   {
    "duration": 169,
    "start_time": "2023-11-22T18:48:00.588Z"
   },
   {
    "duration": 171,
    "start_time": "2023-11-22T18:48:19.659Z"
   },
   {
    "duration": 178,
    "start_time": "2023-11-22T18:51:57.085Z"
   },
   {
    "duration": 165,
    "start_time": "2023-11-22T18:54:52.486Z"
   },
   {
    "duration": 129,
    "start_time": "2023-11-22T18:55:03.710Z"
   },
   {
    "duration": 117,
    "start_time": "2023-11-22T18:55:10.735Z"
   },
   {
    "duration": 1219,
    "start_time": "2023-11-22T18:55:19.855Z"
   },
   {
    "duration": 942,
    "start_time": "2023-11-22T18:57:56.889Z"
   },
   {
    "duration": 921,
    "start_time": "2023-11-22T18:58:28.093Z"
   },
   {
    "duration": 15,
    "start_time": "2023-11-22T18:58:39.183Z"
   },
   {
    "duration": 13,
    "start_time": "2023-11-22T18:58:57.803Z"
   },
   {
    "duration": 13,
    "start_time": "2023-11-22T19:00:04.689Z"
   },
   {
    "duration": 618,
    "start_time": "2023-11-22T19:04:32.509Z"
   },
   {
    "duration": 672,
    "start_time": "2023-11-22T19:08:29.843Z"
   },
   {
    "duration": 14,
    "start_time": "2023-11-22T19:11:54.725Z"
   },
   {
    "duration": 21,
    "start_time": "2023-11-22T19:12:03.664Z"
   },
   {
    "duration": 14,
    "start_time": "2023-11-22T19:13:18.356Z"
   },
   {
    "duration": 13,
    "start_time": "2023-11-22T19:13:28.612Z"
   },
   {
    "duration": 86,
    "start_time": "2023-11-22T19:13:30.532Z"
   },
   {
    "duration": 14,
    "start_time": "2023-11-22T19:14:50.645Z"
   },
   {
    "duration": 12,
    "start_time": "2023-11-22T19:16:03.302Z"
   },
   {
    "duration": 1104,
    "start_time": "2023-11-22T19:16:37.791Z"
   },
   {
    "duration": 123,
    "start_time": "2023-11-22T19:16:49.569Z"
   },
   {
    "duration": 1144,
    "start_time": "2023-11-22T19:16:57.390Z"
   },
   {
    "duration": 5,
    "start_time": "2023-11-22T19:17:47.978Z"
   },
   {
    "duration": 123,
    "start_time": "2023-11-22T19:18:10.790Z"
   },
   {
    "duration": 123,
    "start_time": "2023-11-22T19:18:56.997Z"
   },
   {
    "duration": 118,
    "start_time": "2023-11-22T19:19:45.402Z"
   },
   {
    "duration": 129,
    "start_time": "2023-11-22T19:19:59.015Z"
   },
   {
    "duration": 2004,
    "start_time": "2023-11-22T19:20:03.064Z"
   },
   {
    "duration": 116,
    "start_time": "2023-11-22T19:20:29.658Z"
   },
   {
    "duration": 123,
    "start_time": "2023-11-22T19:20:37.566Z"
   },
   {
    "duration": 126,
    "start_time": "2023-11-22T19:20:47.039Z"
   },
   {
    "duration": 128,
    "start_time": "2023-11-22T19:20:56.707Z"
   },
   {
    "duration": 205,
    "start_time": "2023-11-22T19:21:02.215Z"
   },
   {
    "duration": 125,
    "start_time": "2023-11-22T19:21:07.495Z"
   },
   {
    "duration": 135,
    "start_time": "2023-11-22T19:21:52.319Z"
   },
   {
    "duration": 124,
    "start_time": "2023-11-22T19:22:16.218Z"
   },
   {
    "duration": 98,
    "start_time": "2023-11-22T19:22:25.519Z"
   },
   {
    "duration": 120,
    "start_time": "2023-11-22T19:22:36.967Z"
   },
   {
    "duration": 125,
    "start_time": "2023-11-22T19:22:41.296Z"
   },
   {
    "duration": 122,
    "start_time": "2023-11-22T19:22:45.080Z"
   },
   {
    "duration": 550,
    "start_time": "2023-11-23T08:31:48.208Z"
   },
   {
    "duration": 22,
    "start_time": "2023-11-23T08:31:48.760Z"
   },
   {
    "duration": 15,
    "start_time": "2023-11-23T08:31:48.783Z"
   },
   {
    "duration": 10,
    "start_time": "2023-11-23T08:31:48.800Z"
   },
   {
    "duration": 36,
    "start_time": "2023-11-23T08:31:48.812Z"
   },
   {
    "duration": 23,
    "start_time": "2023-11-23T08:31:48.849Z"
   },
   {
    "duration": 8,
    "start_time": "2023-11-23T08:31:48.874Z"
   },
   {
    "duration": 5,
    "start_time": "2023-11-23T08:31:48.884Z"
   },
   {
    "duration": 10,
    "start_time": "2023-11-23T08:31:48.891Z"
   },
   {
    "duration": 7,
    "start_time": "2023-11-23T08:31:48.904Z"
   },
   {
    "duration": 60,
    "start_time": "2023-11-23T08:31:48.912Z"
   },
   {
    "duration": 11,
    "start_time": "2023-11-23T08:31:48.974Z"
   },
   {
    "duration": 4,
    "start_time": "2023-11-23T08:31:48.987Z"
   },
   {
    "duration": 24,
    "start_time": "2023-11-23T08:31:48.992Z"
   },
   {
    "duration": 25,
    "start_time": "2023-11-23T08:31:49.017Z"
   },
   {
    "duration": 43,
    "start_time": "2023-11-23T08:31:49.044Z"
   },
   {
    "duration": 24,
    "start_time": "2023-11-23T08:31:49.089Z"
   },
   {
    "duration": 30,
    "start_time": "2023-11-23T08:31:49.115Z"
   },
   {
    "duration": 24,
    "start_time": "2023-11-23T08:31:49.146Z"
   },
   {
    "duration": 38,
    "start_time": "2023-11-23T08:31:49.172Z"
   },
   {
    "duration": 21,
    "start_time": "2023-11-23T08:31:49.212Z"
   },
   {
    "duration": 18,
    "start_time": "2023-11-23T08:31:49.235Z"
   },
   {
    "duration": 5,
    "start_time": "2023-11-23T08:31:49.254Z"
   },
   {
    "duration": 16,
    "start_time": "2023-11-23T08:31:49.261Z"
   },
   {
    "duration": 21,
    "start_time": "2023-11-23T08:31:49.278Z"
   },
   {
    "duration": 1046,
    "start_time": "2023-11-23T08:32:01.661Z"
   },
   {
    "duration": 125,
    "start_time": "2023-11-23T08:32:09.277Z"
   },
   {
    "duration": 137,
    "start_time": "2023-11-23T08:32:25.005Z"
   },
   {
    "duration": 141,
    "start_time": "2023-11-23T08:32:37.101Z"
   },
   {
    "duration": 127,
    "start_time": "2023-11-23T08:32:43.053Z"
   },
   {
    "duration": 147,
    "start_time": "2023-11-23T08:33:02.877Z"
   },
   {
    "duration": 146,
    "start_time": "2023-11-23T08:33:08.207Z"
   },
   {
    "duration": 164,
    "start_time": "2023-11-23T08:33:54.501Z"
   },
   {
    "duration": 226,
    "start_time": "2023-11-23T08:34:34.846Z"
   },
   {
    "duration": 176,
    "start_time": "2023-11-23T08:34:44.198Z"
   },
   {
    "duration": 161,
    "start_time": "2023-11-23T08:35:30.552Z"
   },
   {
    "duration": 147,
    "start_time": "2023-11-23T08:35:41.976Z"
   },
   {
    "duration": 182,
    "start_time": "2023-11-23T08:35:51.175Z"
   },
   {
    "duration": 167,
    "start_time": "2023-11-23T08:36:20.400Z"
   },
   {
    "duration": 150,
    "start_time": "2023-11-23T08:36:27.995Z"
   },
   {
    "duration": 172,
    "start_time": "2023-11-23T08:36:38.319Z"
   },
   {
    "duration": 158,
    "start_time": "2023-11-23T08:37:09.502Z"
   },
   {
    "duration": 156,
    "start_time": "2023-11-23T08:39:12.319Z"
   },
   {
    "duration": 136,
    "start_time": "2023-11-23T08:44:48.761Z"
   },
   {
    "duration": 147,
    "start_time": "2023-11-23T08:47:14.058Z"
   },
   {
    "duration": 129,
    "start_time": "2023-11-23T08:47:22.393Z"
   },
   {
    "duration": 207,
    "start_time": "2023-11-23T08:48:12.980Z"
   },
   {
    "duration": 5,
    "start_time": "2023-11-23T08:48:57.139Z"
   },
   {
    "duration": 239,
    "start_time": "2023-11-23T08:50:27.220Z"
   },
   {
    "duration": 100,
    "start_time": "2023-11-23T08:52:43.347Z"
   },
   {
    "duration": 206,
    "start_time": "2023-11-23T08:53:04.932Z"
   },
   {
    "duration": 171,
    "start_time": "2023-11-23T08:53:23.283Z"
   },
   {
    "duration": 184,
    "start_time": "2023-11-23T08:53:46.492Z"
   },
   {
    "duration": 185,
    "start_time": "2023-11-23T08:55:04.421Z"
   },
   {
    "duration": 728,
    "start_time": "2023-11-23T16:22:14.528Z"
   },
   {
    "duration": 23,
    "start_time": "2023-11-23T16:22:15.257Z"
   },
   {
    "duration": 16,
    "start_time": "2023-11-23T16:22:15.282Z"
   },
   {
    "duration": 19,
    "start_time": "2023-11-23T16:22:15.300Z"
   },
   {
    "duration": 57,
    "start_time": "2023-11-23T16:22:15.321Z"
   },
   {
    "duration": 3,
    "start_time": "2023-11-23T16:22:15.380Z"
   },
   {
    "duration": 15,
    "start_time": "2023-11-23T16:22:15.385Z"
   },
   {
    "duration": 8,
    "start_time": "2023-11-23T16:22:15.401Z"
   },
   {
    "duration": 8,
    "start_time": "2023-11-23T16:22:15.411Z"
   },
   {
    "duration": 7,
    "start_time": "2023-11-23T16:22:15.421Z"
   },
   {
    "duration": 49,
    "start_time": "2023-11-23T16:22:15.430Z"
   },
   {
    "duration": 10,
    "start_time": "2023-11-23T16:22:15.480Z"
   },
   {
    "duration": 4,
    "start_time": "2023-11-23T16:22:15.492Z"
   },
   {
    "duration": 18,
    "start_time": "2023-11-23T16:22:15.497Z"
   },
   {
    "duration": 21,
    "start_time": "2023-11-23T16:22:15.516Z"
   },
   {
    "duration": 16,
    "start_time": "2023-11-23T16:22:15.538Z"
   },
   {
    "duration": 3,
    "start_time": "2023-11-23T16:22:15.556Z"
   },
   {
    "duration": 34,
    "start_time": "2023-11-23T16:22:15.561Z"
   },
   {
    "duration": 22,
    "start_time": "2023-11-23T16:22:15.596Z"
   },
   {
    "duration": 12,
    "start_time": "2023-11-23T16:22:15.619Z"
   },
   {
    "duration": 11,
    "start_time": "2023-11-23T16:22:15.633Z"
   },
   {
    "duration": 11,
    "start_time": "2023-11-23T16:22:15.645Z"
   },
   {
    "duration": 35,
    "start_time": "2023-11-23T16:22:15.658Z"
   },
   {
    "duration": 36,
    "start_time": "2023-11-23T16:22:15.694Z"
   },
   {
    "duration": 13,
    "start_time": "2023-11-23T16:22:15.732Z"
   },
   {
    "duration": 4,
    "start_time": "2023-11-23T16:22:15.747Z"
   },
   {
    "duration": 1180,
    "start_time": "2023-11-23T16:22:15.753Z"
   },
   {
    "duration": 5,
    "start_time": "2023-11-23T16:22:16.936Z"
   },
   {
    "duration": 18,
    "start_time": "2023-11-23T16:22:16.943Z"
   },
   {
    "duration": 177,
    "start_time": "2023-11-23T16:22:27.430Z"
   },
   {
    "duration": 178,
    "start_time": "2023-11-23T16:23:38.265Z"
   },
   {
    "duration": 15,
    "start_time": "2023-11-23T16:27:29.114Z"
   },
   {
    "duration": 104,
    "start_time": "2023-11-23T16:28:23.377Z"
   },
   {
    "duration": 14,
    "start_time": "2023-11-23T16:28:33.169Z"
   },
   {
    "duration": 12,
    "start_time": "2023-11-23T16:28:59.984Z"
   },
   {
    "duration": 165,
    "start_time": "2023-11-23T16:29:56.746Z"
   },
   {
    "duration": 176,
    "start_time": "2023-11-23T16:30:09.484Z"
   },
   {
    "duration": 17,
    "start_time": "2023-11-23T16:35:49.820Z"
   },
   {
    "duration": 163,
    "start_time": "2023-11-23T16:36:33.444Z"
   },
   {
    "duration": 185,
    "start_time": "2023-11-23T16:37:44.740Z"
   },
   {
    "duration": 178,
    "start_time": "2023-11-23T16:38:08.726Z"
   },
   {
    "duration": 228,
    "start_time": "2023-11-23T16:38:13.444Z"
   },
   {
    "duration": 164,
    "start_time": "2023-11-23T16:38:22.251Z"
   },
   {
    "duration": 166,
    "start_time": "2023-11-23T16:38:27.820Z"
   },
   {
    "duration": 200,
    "start_time": "2023-11-23T16:45:04.574Z"
   },
   {
    "duration": 553,
    "start_time": "2023-11-24T10:32:03.551Z"
   },
   {
    "duration": 533,
    "start_time": "2023-11-27T17:13:21.940Z"
   },
   {
    "duration": 25,
    "start_time": "2023-11-27T17:13:22.475Z"
   },
   {
    "duration": 17,
    "start_time": "2023-11-27T17:13:22.502Z"
   },
   {
    "duration": 10,
    "start_time": "2023-11-27T17:13:22.521Z"
   },
   {
    "duration": 39,
    "start_time": "2023-11-27T17:13:22.533Z"
   },
   {
    "duration": 5,
    "start_time": "2023-11-27T17:13:22.574Z"
   },
   {
    "duration": 9,
    "start_time": "2023-11-27T17:13:22.581Z"
   },
   {
    "duration": 5,
    "start_time": "2023-11-27T17:13:22.614Z"
   },
   {
    "duration": 26,
    "start_time": "2023-11-27T17:13:22.621Z"
   },
   {
    "duration": 8,
    "start_time": "2023-11-27T17:13:22.652Z"
   },
   {
    "duration": 39,
    "start_time": "2023-11-27T17:13:22.662Z"
   },
   {
    "duration": 15,
    "start_time": "2023-11-27T17:13:22.703Z"
   },
   {
    "duration": 3,
    "start_time": "2023-11-27T17:13:22.720Z"
   },
   {
    "duration": 14,
    "start_time": "2023-11-27T17:13:22.724Z"
   },
   {
    "duration": 21,
    "start_time": "2023-11-27T17:13:22.740Z"
   },
   {
    "duration": 18,
    "start_time": "2023-11-27T17:13:22.763Z"
   },
   {
    "duration": 32,
    "start_time": "2023-11-27T17:13:22.783Z"
   },
   {
    "duration": 17,
    "start_time": "2023-11-27T17:13:22.816Z"
   },
   {
    "duration": 28,
    "start_time": "2023-11-27T17:13:22.834Z"
   },
   {
    "duration": 8,
    "start_time": "2023-11-27T17:13:22.864Z"
   },
   {
    "duration": 32,
    "start_time": "2023-11-27T17:13:22.874Z"
   },
   {
    "duration": 20,
    "start_time": "2023-11-27T17:13:22.908Z"
   },
   {
    "duration": 14,
    "start_time": "2023-11-27T17:13:22.929Z"
   },
   {
    "duration": 32,
    "start_time": "2023-11-27T17:13:22.945Z"
   },
   {
    "duration": 28,
    "start_time": "2023-11-27T17:13:22.978Z"
   },
   {
    "duration": 3,
    "start_time": "2023-11-27T17:13:23.007Z"
   },
   {
    "duration": 1171,
    "start_time": "2023-11-27T17:13:23.012Z"
   },
   {
    "duration": 5,
    "start_time": "2023-11-27T17:13:24.187Z"
   },
   {
    "duration": 33,
    "start_time": "2023-11-27T17:13:24.193Z"
   },
   {
    "duration": 195,
    "start_time": "2023-11-27T17:13:24.228Z"
   },
   {
    "duration": 16,
    "start_time": "2023-11-27T17:13:24.424Z"
   },
   {
    "duration": 188,
    "start_time": "2023-11-27T17:13:24.442Z"
   },
   {
    "duration": 21,
    "start_time": "2023-11-27T17:13:24.632Z"
   },
   {
    "duration": 202,
    "start_time": "2023-11-27T17:13:24.654Z"
   },
   {
    "duration": 19,
    "start_time": "2023-11-27T17:15:28.728Z"
   },
   {
    "duration": 80,
    "start_time": "2023-11-27T17:15:45.491Z"
   },
   {
    "duration": 19,
    "start_time": "2023-11-27T17:15:47.355Z"
   },
   {
    "duration": 16,
    "start_time": "2023-11-27T17:15:50.282Z"
   },
   {
    "duration": 11,
    "start_time": "2023-11-27T17:15:52.841Z"
   },
   {
    "duration": 38,
    "start_time": "2023-11-27T17:15:54.991Z"
   },
   {
    "duration": 16,
    "start_time": "2023-11-27T17:15:57.506Z"
   },
   {
    "duration": 77,
    "start_time": "2023-11-27T17:30:43.039Z"
   },
   {
    "duration": 16,
    "start_time": "2023-11-27T17:30:43.118Z"
   },
   {
    "duration": 32,
    "start_time": "2023-11-27T17:30:43.136Z"
   },
   {
    "duration": 23,
    "start_time": "2023-11-27T17:30:43.170Z"
   },
   {
    "duration": 68,
    "start_time": "2023-11-27T17:30:43.196Z"
   },
   {
    "duration": 22,
    "start_time": "2023-11-27T17:30:43.266Z"
   },
   {
    "duration": 18,
    "start_time": "2023-11-27T17:30:43.289Z"
   },
   {
    "duration": 33,
    "start_time": "2023-11-27T17:30:43.310Z"
   },
   {
    "duration": 16,
    "start_time": "2023-11-27T17:30:43.345Z"
   },
   {
    "duration": 17,
    "start_time": "2023-11-27T17:30:43.362Z"
   },
   {
    "duration": 20,
    "start_time": "2023-11-27T17:30:43.381Z"
   },
   {
    "duration": 48,
    "start_time": "2023-11-27T17:30:43.403Z"
   },
   {
    "duration": 11,
    "start_time": "2023-11-27T17:30:43.453Z"
   },
   {
    "duration": 17,
    "start_time": "2023-11-27T17:30:43.466Z"
   },
   {
    "duration": 28,
    "start_time": "2023-11-27T17:30:43.485Z"
   },
   {
    "duration": 22,
    "start_time": "2023-11-27T17:30:45.526Z"
   },
   {
    "duration": 17,
    "start_time": "2023-11-27T17:30:55.894Z"
   },
   {
    "duration": 188,
    "start_time": "2023-11-27T17:58:16.218Z"
   }
  ],
  "colab": {
   "name": "dpp_template_part2.ipynb",
   "provenance": []
  },
  "kernelspec": {
   "display_name": "Python 3 (ipykernel)",
   "language": "python",
   "name": "python3"
  },
  "language_info": {
   "codemirror_mode": {
    "name": "ipython",
    "version": 3
   },
   "file_extension": ".py",
   "mimetype": "text/x-python",
   "name": "python",
   "nbconvert_exporter": "python",
   "pygments_lexer": "ipython3",
   "version": "3.9.5"
  },
  "toc": {
   "base_numbering": 1,
   "nav_menu": {},
   "number_sections": true,
   "sideBar": true,
   "skip_h1_title": true,
   "title_cell": "Table of Contents",
   "title_sidebar": "Contents",
   "toc_cell": false,
   "toc_position": {},
   "toc_section_display": true,
   "toc_window_display": false
  }
 },
 "nbformat": 4,
 "nbformat_minor": 5
}
